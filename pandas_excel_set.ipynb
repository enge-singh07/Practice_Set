{
 "metadata": {
  "language_info": {
   "codemirror_mode": {
    "name": "ipython",
    "version": 3
   },
   "file_extension": ".py",
   "mimetype": "text/x-python",
   "name": "python",
   "nbconvert_exporter": "python",
   "pygments_lexer": "ipython3",
   "version": "3.8.5-final"
  },
  "orig_nbformat": 2,
  "kernelspec": {
   "name": "python3",
   "display_name": "Python 3",
   "language": "python"
  }
 },
 "nbformat": 4,
 "nbformat_minor": 2,
 "cells": [
  {
   "cell_type": "code",
   "execution_count": 8,
   "metadata": {},
   "outputs": [
    {
     "output_type": "stream",
     "name": "stdout",
     "text": [
      "   Duration  Average_Pulse  Max_Pulse  Calorie_Burnage  Hours_Work  Hours_Sleep\n0        30             80        120              240          10            7\n1        30             85        120              250          10            7\n2        45             90        130              260           8            7\n3        45             95        130              270           8            7\n4        45            100        140              280           0            7\n5        60            105        140              290           7            8\n6        60            110        145              300           7            8\n7        60            115        145              310           8            8\n8        75            120        150              320           0            8\n9        75            125        150              330           8            8\n"
     ]
    }
   ],
   "source": [
    "import numpy as np\n",
    "import pandas as pd\n",
    "health_data = pd.read_excel('F:\\python project\\Sports_Watch_Data_Set.xlsx') # To imports data from excel\n",
    "print(health_data.to_string()) "
   ]
  },
  {
   "cell_type": "code",
   "execution_count": 9,
   "metadata": {},
   "outputs": [
    {
     "output_type": "stream",
     "name": "stdout",
     "text": [
      "<class 'pandas.core.frame.DataFrame'>\nRangeIndex: 10 entries, 0 to 9\nData columns (total 6 columns):\n #   Column           Non-Null Count  Dtype\n---  ------           --------------  -----\n 0   Duration         10 non-null     int64\n 1   Average_Pulse    10 non-null     int64\n 2   Max_Pulse        10 non-null     int64\n 3   Calorie_Burnage  10 non-null     int64\n 4   Hours_Work       10 non-null     int64\n 5   Hours_Sleep      10 non-null     int64\ndtypes: int64(6)\nmemory usage: 608.0 bytes\nNone\n"
     ]
    }
   ],
   "source": [
    "print(health_data.info())"
   ]
  },
  {
   "cell_type": "code",
   "execution_count": 10,
   "metadata": {},
   "outputs": [
    {
     "output_type": "stream",
     "name": "stdout",
     "text": [
      "        Duration  Average_Pulse   Max_Pulse  Calorie_Burnage  Hours_Work  \\\ncount  10.000000      10.000000   10.000000        10.000000   10.000000   \nmean   52.500000     102.500000  137.000000       285.000000    6.600000   \nstd    16.201852      15.138252   11.352924        30.276504    3.627059   \nmin    30.000000      80.000000  120.000000       240.000000    0.000000   \n25%    45.000000      91.250000  130.000000       262.500000    7.000000   \n50%    52.500000     102.500000  140.000000       285.000000    8.000000   \n75%    60.000000     113.750000  145.000000       307.500000    8.000000   \nmax    75.000000     125.000000  150.000000       330.000000   10.000000   \n\n       Hours_Sleep  \ncount    10.000000  \nmean      7.500000  \nstd       0.527046  \nmin       7.000000  \n25%       7.000000  \n50%       7.500000  \n75%       8.000000  \nmax       8.000000  \n"
     ]
    }
   ],
   "source": [
    "print(health_data.describe())\n",
    "\n",
    "\"\"\"\n",
    "Count - Counts the number of observations\n",
    "Mean - The average value\n",
    "Std - Standard deviation (explained in the statistics chapter)\n",
    "Min - The lowest value\n",
    "25%, 50% and 75% are percentiles (explained in the statistics chapter)\n",
    "Max - The highest value\n",
    "\"\"\""
   ]
  },
  {
   "cell_type": "code",
   "execution_count": 37,
   "metadata": {},
   "outputs": [
    {
     "output_type": "stream",
     "name": "stdout",
     "text": [
      "   Duration  Pulse  Maxpulse  Calories\n0        60    110       130     409.1\n1        60    117       145     479.0\n"
     ]
    }
   ],
   "source": [
    "df = pd.read_csv('F:\\python project\\data.csv')\n",
    "#print(df.to_string())\n",
    "print(df.head(2))"
   ]
  },
  {
   "cell_type": "code",
   "execution_count": 16,
   "metadata": {},
   "outputs": [
    {
     "output_type": "stream",
     "name": "stdout",
     "text": [
      "   Duration  Pulse  Maxpulse  Calories\n0        60    110       130     409.1\n1        60    117       145     479.0\n2        60    103       135     340.0\n3        45    109       175     282.4\n4        45    117       148     406.0\n5        60    102       127     300.0\n6        60    110       136     374.0\n7        45    104       134     253.3\n8        30    109       133     195.1\n9        60     98       124     269.0\n"
     ]
    }
   ],
   "source": [
    "print(df.head(10)) # The head() method returns the headers and a specified number of rows, starting from the top.\n",
    "\"\"\"\n",
    "Note: if the number of rows is not specified, the head() method will return the top 5 rows.\n",
    "\"\"\""
   ]
  },
  {
   "cell_type": "code",
   "execution_count": 18,
   "metadata": {},
   "outputs": [
    {
     "output_type": "stream",
     "name": "stdout",
     "text": [
      "     Duration  Pulse  Maxpulse  Calories\n167        75    120       150     320.4\n168        75    125       150     330.4\n"
     ]
    },
    {
     "output_type": "execute_result",
     "data": {
      "text/plain": [
       "'\\nThere is also a tail() method for viewing the last rows of the DataFrame.\\n\\nThe tail() method returns the headers and a specified number of rows, starting from the bottom.\\n'"
      ]
     },
     "metadata": {},
     "execution_count": 18
    }
   ],
   "source": [
    "print(df.tail(2)) # We can specify the numbers of rows.\n",
    "\"\"\"\n",
    "There is also a tail() method for viewing the last rows of the DataFrame.\n",
    "\n",
    "The tail() method returns the headers and a specified number of rows, starting from the bottom.\n",
    "\"\"\""
   ]
  },
  {
   "cell_type": "code",
   "execution_count": 19,
   "metadata": {},
   "outputs": [
    {
     "output_type": "stream",
     "name": "stdout",
     "text": [
      "<class 'pandas.core.frame.DataFrame'>\nRangeIndex: 169 entries, 0 to 168\nData columns (total 4 columns):\n #   Column    Non-Null Count  Dtype  \n---  ------    --------------  -----  \n 0   Duration  169 non-null    int64  \n 1   Pulse     169 non-null    int64  \n 2   Maxpulse  169 non-null    int64  \n 3   Calories  164 non-null    float64\ndtypes: float64(1), int64(3)\nmemory usage: 5.4 KB\nNone\n"
     ]
    }
   ],
   "source": [
    "print(df.info()) # The DataFrames object has a method called info(), that gives you more information about the data set.    "
   ]
  },
  {
   "cell_type": "code",
   "execution_count": 36,
   "metadata": {},
   "outputs": [
    {
     "output_type": "stream",
     "name": "stdout",
     "text": [
      "   Duration  Pulse  Maxpulse  Calories\n0        60    110       130     409.1\n1        60    117       145     479.0\n"
     ]
    }
   ],
   "source": [
    "# Pandas - Cleaning Empty Cells\n",
    "new_df = df.dropna()\n",
    "# Note: By default, the dropna() method returns a new DataFrame, and will not change the original.\n",
    "#print(new_df.to_string()) # Printing the whole data set.\n",
    "print(df.head(2))"
   ]
  },
  {
   "cell_type": "code",
   "execution_count": 35,
   "metadata": {},
   "outputs": [
    {
     "output_type": "stream",
     "name": "stdout",
     "text": [
      "   Duration  Pulse  Maxpulse  Calories\n0        60    110       130     409.1\n1        60    117       145     479.0\n"
     ]
    },
    {
     "output_type": "execute_result",
     "data": {
      "text/plain": [
       "'\\nNote: Now, the dropna(inplace = True) will NOT return a new DataFrame, but it will remove all rows containg NULL values from the original DataFrame.\\n'"
      ]
     },
     "metadata": {},
     "execution_count": 35
    }
   ],
   "source": [
    "# If you want to change the original DataFrame, use the inplace = True argument:\n",
    "df.dropna(inplace=True) \n",
    "#print(df.to_string())\n",
    "print(df.head(2))\n",
    "\"\"\"\n",
    "Note: Now, the dropna(inplace = True) will NOT return a new DataFrame, but it will remove all rows containg NULL values from the original DataFrame.\n",
    "\"\"\""
   ]
  },
  {
   "cell_type": "code",
   "execution_count": 34,
   "metadata": {},
   "outputs": [
    {
     "output_type": "stream",
     "name": "stdout",
     "text": [
      "   Duration  Pulse  Maxpulse  Calories\n0        60    110       130     409.1\n1        60    117       145     479.0\n2        60    103       135     340.0\n3        45    109       175     282.4\n4        45    117       148     406.0\n"
     ]
    },
    {
     "output_type": "execute_result",
     "data": {
      "text/plain": [
       "'\\nReplace Empty Values\\nAnother way of dealing with empty cells is to insert a new value instead.\\n\\nThis way you do not have to delete entire rows just because of some empty cells.\\n\\nThe fillna() method allows us to replace empty cells with a value:\\n'"
      ]
     },
     "metadata": {},
     "execution_count": 34
    }
   ],
   "source": [
    "df = pd.read_csv('F:\\python project\\data.csv')\n",
    "#print(df.to_string())\n",
    "print(df.head(5))\n",
    "df.fillna(130, inplace = True)\n",
    "\"\"\"\n",
    "Replace Empty Values\n",
    "Another way of dealing with empty cells is to insert a new value instead.\n",
    "\n",
    "This way you do not have to delete entire rows just because of some empty cells.\n",
    "\n",
    "The fillna() method allows us to replace empty cells with a value:\n",
    "\"\"\""
   ]
  },
  {
   "cell_type": "code",
   "execution_count": 33,
   "metadata": {},
   "outputs": [
    {
     "output_type": "stream",
     "name": "stdout",
     "text": [
      "   Duration  Pulse  Maxpulse  Calories\n0        60    110       130     409.1\n1        60    117       145     479.0\n2        60    103       135     340.0\n3        45    109       175     282.4\n4        45    117       148     406.0\n5        60    102       127     300.0\n6        60    110       136     374.0\n7        45    104       134     253.3\n8        30    109       133     195.1\n9        60     98       124     269.0\n"
     ]
    }
   ],
   "source": [
    "df[\"Calories\"].fillna(130,inplace=True)\n",
    "#print(df.to_string())\n",
    "print(df.head(10))"
   ]
  },
  {
   "cell_type": "code",
   "execution_count": null,
   "metadata": {},
   "outputs": [],
   "source": [
    "\"\"\"\n",
    "Replace Using Mean, Median, or Mode\n",
    "A common way to replace empty cells, is to calculate the mean, median or mode value of the column.\n",
    "\n",
    "Pandas uses the mean() median() and mode() methods to calculate the respective values for a specified column:\n",
    "\"\"\""
   ]
  }
 ]
}