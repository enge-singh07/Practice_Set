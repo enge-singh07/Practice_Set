{
 "metadata": {
  "language_info": {
   "codemirror_mode": {
    "name": "ipython",
    "version": 3
   },
   "file_extension": ".py",
   "mimetype": "text/x-python",
   "name": "python",
   "nbconvert_exporter": "python",
   "pygments_lexer": "ipython3",
   "version": "3.8.5-final"
  },
  "orig_nbformat": 2,
  "kernelspec": {
   "name": "python3",
   "display_name": "Python 3",
   "language": "python"
  }
 },
 "nbformat": 4,
 "nbformat_minor": 2,
 "cells": [
  {
   "cell_type": "code",
   "execution_count": 2,
   "metadata": {},
   "outputs": [
    {
     "output_type": "stream",
     "name": "stdout",
     "text": [
      "   Duration  Average_Pulse  Max_Pulse  Calorie_Burnage  Hours_Work  Hours_Sleep\n0        30             80        120              240          10            7\n1        30             85        120              250          10            7\n2        45             90        130              260           8            7\n3        45             95        130              270           8            7\n4        45            100        140              280           0            7\n5        60            105        140              290           7            8\n6        60            110        145              300           7            8\n7        60            115        145              310           8            8\n8        75            120        150              320           0            8\n9        75            125        150              330           8            8\n"
     ]
    }
   ],
   "source": [
    "import numpy as np\n",
    "import pandas as pd\n",
    "health_data = pd.read_excel('F:\\python project\\Sports_Watch_Data_Set.xlsx') # To imports data from excel\n",
    "print(health_data.to_string()) "
   ]
  },
  {
   "cell_type": "code",
   "execution_count": 9,
   "metadata": {},
   "outputs": [
    {
     "output_type": "stream",
     "name": "stdout",
     "text": [
      "<class 'pandas.core.frame.DataFrame'>\nRangeIndex: 10 entries, 0 to 9\nData columns (total 6 columns):\n #   Column           Non-Null Count  Dtype\n---  ------           --------------  -----\n 0   Duration         10 non-null     int64\n 1   Average_Pulse    10 non-null     int64\n 2   Max_Pulse        10 non-null     int64\n 3   Calorie_Burnage  10 non-null     int64\n 4   Hours_Work       10 non-null     int64\n 5   Hours_Sleep      10 non-null     int64\ndtypes: int64(6)\nmemory usage: 608.0 bytes\nNone\n"
     ]
    }
   ],
   "source": [
    "print(health_data.info())"
   ]
  },
  {
   "cell_type": "code",
   "execution_count": 10,
   "metadata": {},
   "outputs": [
    {
     "output_type": "stream",
     "name": "stdout",
     "text": [
      "        Duration  Average_Pulse   Max_Pulse  Calorie_Burnage  Hours_Work  \\\ncount  10.000000      10.000000   10.000000        10.000000   10.000000   \nmean   52.500000     102.500000  137.000000       285.000000    6.600000   \nstd    16.201852      15.138252   11.352924        30.276504    3.627059   \nmin    30.000000      80.000000  120.000000       240.000000    0.000000   \n25%    45.000000      91.250000  130.000000       262.500000    7.000000   \n50%    52.500000     102.500000  140.000000       285.000000    8.000000   \n75%    60.000000     113.750000  145.000000       307.500000    8.000000   \nmax    75.000000     125.000000  150.000000       330.000000   10.000000   \n\n       Hours_Sleep  \ncount    10.000000  \nmean      7.500000  \nstd       0.527046  \nmin       7.000000  \n25%       7.000000  \n50%       7.500000  \n75%       8.000000  \nmax       8.000000  \n"
     ]
    }
   ],
   "source": [
    "print(health_data.describe())\n",
    "\n",
    "\"\"\"\n",
    "Count - Counts the number of observations\n",
    "Mean - The average value\n",
    "Std - Standard deviation (explained in the statistics chapter)\n",
    "Min - The lowest value\n",
    "25%, 50% and 75% are percentiles (explained in the statistics chapter)\n",
    "Max - The highest value\n",
    "\"\"\""
   ]
  },
  {
   "cell_type": "code",
   "execution_count": 4,
   "metadata": {},
   "outputs": [
    {
     "output_type": "stream",
     "name": "stdout",
     "text": [
      "   Duration  Pulse  Maxpulse  Calories\n0        60    110       130     409.1\n1        60    117       145     479.0\n"
     ]
    }
   ],
   "source": [
    "df = pd.read_csv('F:\\python project\\data.csv')\n",
    "#print(df.to_string())\n",
    "print(df.head(2))"
   ]
  },
  {
   "cell_type": "code",
   "execution_count": 16,
   "metadata": {},
   "outputs": [
    {
     "output_type": "stream",
     "name": "stdout",
     "text": [
      "   Duration  Pulse  Maxpulse  Calories\n0        60    110       130     409.1\n1        60    117       145     479.0\n2        60    103       135     340.0\n3        45    109       175     282.4\n4        45    117       148     406.0\n5        60    102       127     300.0\n6        60    110       136     374.0\n7        45    104       134     253.3\n8        30    109       133     195.1\n9        60     98       124     269.0\n"
     ]
    }
   ],
   "source": [
    "print(df.head(10)) # The head() method returns the headers and a specified number of rows, starting from the top.\n",
    "\"\"\"\n",
    "Note: if the number of rows is not specified, the head() method will return the top 5 rows.\n",
    "\"\"\""
   ]
  },
  {
   "cell_type": "code",
   "execution_count": 18,
   "metadata": {},
   "outputs": [
    {
     "output_type": "stream",
     "name": "stdout",
     "text": [
      "     Duration  Pulse  Maxpulse  Calories\n167        75    120       150     320.4\n168        75    125       150     330.4\n"
     ]
    },
    {
     "output_type": "execute_result",
     "data": {
      "text/plain": [
       "'\\nThere is also a tail() method for viewing the last rows of the DataFrame.\\n\\nThe tail() method returns the headers and a specified number of rows, starting from the bottom.\\n'"
      ]
     },
     "metadata": {},
     "execution_count": 18
    }
   ],
   "source": [
    "print(df.tail(2)) # We can specify the numbers of rows.\n",
    "\"\"\"\n",
    "There is also a tail() method for viewing the last rows of the DataFrame.\n",
    "\n",
    "The tail() method returns the headers and a specified number of rows, starting from the bottom.\n",
    "\"\"\""
   ]
  },
  {
   "cell_type": "code",
   "execution_count": 19,
   "metadata": {},
   "outputs": [
    {
     "output_type": "stream",
     "name": "stdout",
     "text": [
      "<class 'pandas.core.frame.DataFrame'>\nRangeIndex: 169 entries, 0 to 168\nData columns (total 4 columns):\n #   Column    Non-Null Count  Dtype  \n---  ------    --------------  -----  \n 0   Duration  169 non-null    int64  \n 1   Pulse     169 non-null    int64  \n 2   Maxpulse  169 non-null    int64  \n 3   Calories  164 non-null    float64\ndtypes: float64(1), int64(3)\nmemory usage: 5.4 KB\nNone\n"
     ]
    }
   ],
   "source": [
    "print(df.info()) # The DataFrames object has a method called info(), that gives you more information about the data set.    "
   ]
  },
  {
   "cell_type": "code",
   "execution_count": 36,
   "metadata": {},
   "outputs": [
    {
     "output_type": "stream",
     "name": "stdout",
     "text": [
      "   Duration  Pulse  Maxpulse  Calories\n0        60    110       130     409.1\n1        60    117       145     479.0\n"
     ]
    }
   ],
   "source": [
    "# Pandas - Cleaning Empty Cells\n",
    "new_df = df.dropna()\n",
    "# Note: By default, the dropna() method returns a new DataFrame, and will not change the original.\n",
    "#print(new_df.to_string()) # Printing the whole data set.\n",
    "print(df.head(2))"
   ]
  },
  {
   "cell_type": "code",
   "execution_count": 35,
   "metadata": {},
   "outputs": [
    {
     "output_type": "stream",
     "name": "stdout",
     "text": [
      "   Duration  Pulse  Maxpulse  Calories\n0        60    110       130     409.1\n1        60    117       145     479.0\n"
     ]
    },
    {
     "output_type": "execute_result",
     "data": {
      "text/plain": [
       "'\\nNote: Now, the dropna(inplace = True) will NOT return a new DataFrame, but it will remove all rows containg NULL values from the original DataFrame.\\n'"
      ]
     },
     "metadata": {},
     "execution_count": 35
    }
   ],
   "source": [
    "# If you want to change the original DataFrame, use the inplace = True argument:\n",
    "df.dropna(inplace=True) \n",
    "#print(df.to_string())\n",
    "print(df.head(2))\n",
    "\"\"\"\n",
    "Note: Now, the dropna(inplace = True) will NOT return a new DataFrame, but it will remove all rows containg NULL values from the original DataFrame.\n",
    "\"\"\""
   ]
  },
  {
   "cell_type": "code",
   "execution_count": 34,
   "metadata": {},
   "outputs": [
    {
     "output_type": "stream",
     "name": "stdout",
     "text": [
      "   Duration  Pulse  Maxpulse  Calories\n0        60    110       130     409.1\n1        60    117       145     479.0\n2        60    103       135     340.0\n3        45    109       175     282.4\n4        45    117       148     406.0\n"
     ]
    },
    {
     "output_type": "execute_result",
     "data": {
      "text/plain": [
       "'\\nReplace Empty Values\\nAnother way of dealing with empty cells is to insert a new value instead.\\n\\nThis way you do not have to delete entire rows just because of some empty cells.\\n\\nThe fillna() method allows us to replace empty cells with a value:\\n'"
      ]
     },
     "metadata": {},
     "execution_count": 34
    }
   ],
   "source": [
    "df = pd.read_csv('F:\\python project\\data.csv')\n",
    "#print(df.to_string())\n",
    "print(df.head(5))\n",
    "df.fillna(130, inplace = True)\n",
    "\"\"\"\n",
    "Replace Empty Values\n",
    "Another way of dealing with empty cells is to insert a new value instead.\n",
    "\n",
    "This way you do not have to delete entire rows just because of some empty cells.\n",
    "\n",
    "The fillna() method allows us to replace empty cells with a value:\n",
    "\"\"\""
   ]
  },
  {
   "cell_type": "code",
   "execution_count": 33,
   "metadata": {},
   "outputs": [
    {
     "output_type": "stream",
     "name": "stdout",
     "text": [
      "   Duration  Pulse  Maxpulse  Calories\n0        60    110       130     409.1\n1        60    117       145     479.0\n2        60    103       135     340.0\n3        45    109       175     282.4\n4        45    117       148     406.0\n5        60    102       127     300.0\n6        60    110       136     374.0\n7        45    104       134     253.3\n8        30    109       133     195.1\n9        60     98       124     269.0\n"
     ]
    }
   ],
   "source": [
    "df[\"Calories\"].fillna(130,inplace=True)\n",
    "#print(df.to_string())\n",
    "print(df.head(10))"
   ]
  },
  {
   "cell_type": "code",
   "execution_count": 39,
   "metadata": {},
   "outputs": [
    {
     "output_type": "stream",
     "name": "stdout",
     "text": [
      "     Duration  Pulse  Maxpulse     Calories\n0          60    110       130   409.100000\n1          60    117       145   479.000000\n2          60    103       135   340.000000\n3          45    109       175   282.400000\n4          45    117       148   406.000000\n5          60    102       127   300.000000\n6          60    110       136   374.000000\n7          45    104       134   253.300000\n8          30    109       133   195.100000\n9          60     98       124   269.000000\n10         60    103       147   329.300000\n11         60    100       120   250.700000\n12         60    106       128   345.300000\n13         60    104       132   379.300000\n14         60     98       123   275.000000\n15         60     98       120   215.200000\n16         60    100       120   300.000000\n17         45     90       112   375.790244\n18         60    103       123   323.000000\n19         45     97       125   243.000000\n20         60    108       131   364.200000\n21         45    100       119   282.000000\n22         60    130       101   300.000000\n23         45    105       132   246.000000\n24         60    102       126   334.500000\n25         60    100       120   250.000000\n26         60     92       118   241.000000\n27         60    103       132   375.790244\n28         60    100       132   280.000000\n29         60    102       129   380.300000\n30         60     92       115   243.000000\n31         45     90       112   180.100000\n32         60    101       124   299.000000\n33         60     93       113   223.000000\n34         60    107       136   361.000000\n35         60    114       140   415.000000\n36         60    102       127   300.000000\n37         60    100       120   300.000000\n38         60    100       120   300.000000\n39         45    104       129   266.000000\n40         45     90       112   180.100000\n41         60     98       126   286.000000\n42         60    100       122   329.400000\n43         60    111       138   400.000000\n44         60    111       131   397.000000\n45         60     99       119   273.000000\n46         60    109       153   387.600000\n47         45    111       136   300.000000\n48         45    108       129   298.000000\n49         60    111       139   397.600000\n50         60    107       136   380.200000\n51         80    123       146   643.100000\n52         60    106       130   263.000000\n53         60    118       151   486.000000\n54         30    136       175   238.000000\n55         60    121       146   450.700000\n56         60    118       121   413.000000\n57         45    115       144   305.000000\n58         20    153       172   226.400000\n59         45    123       152   321.000000\n60        210    108       160  1376.000000\n61        160    110       137  1034.400000\n62        160    109       135   853.000000\n63         45    118       141   341.000000\n64         20    110       130   131.400000\n65        180     90       130   800.400000\n66        150    105       135   873.400000\n67        150    107       130   816.000000\n68         20    106       136   110.400000\n69        300    108       143  1500.200000\n70        150     97       129  1115.000000\n71         60    109       153   387.600000\n72         90    100       127   700.000000\n73        150     97       127   953.200000\n74         45    114       146   304.000000\n75         90     98       125   563.200000\n76         45    105       134   251.000000\n77         45    110       141   300.000000\n78        120    100       130   500.400000\n79        270    100       131  1729.000000\n80         30    159       182   319.200000\n81         45    149       169   344.000000\n82         30    103       139   151.100000\n83        120    100       130   500.000000\n84         45    100       120   225.300000\n85         30    151       170   300.000000\n86         45    102       136   234.000000\n87        120    100       157  1000.100000\n88         45    129       103   242.000000\n89         20     83       107    50.300000\n90        180    101       127   600.100000\n91         45    107       137   375.790244\n92         30     90       107   105.300000\n93         15     80       100    50.500000\n94         20    150       171   127.400000\n95         20    151       168   229.400000\n96         30     95       128   128.200000\n97         25    152       168   244.200000\n98         30    109       131   188.200000\n99         90     93       124   604.100000\n100        20     95       112    77.700000\n101        90     90       110   500.000000\n102        90     90       100   500.000000\n103        90     90       100   500.400000\n104        30     92       108    92.700000\n105        30     93       128   124.000000\n106       180     90       120   800.300000\n107        30     90       120    86.200000\n108        90     90       120   500.300000\n109       210    137       184  1860.400000\n110        60    102       124   325.200000\n111        45    107       124   275.000000\n112        15    124       139   124.200000\n113        45    100       120   225.300000\n114        60    108       131   367.600000\n115        60    108       151   351.700000\n116        60    116       141   443.000000\n117        60     97       122   277.400000\n118        60    105       125   375.790244\n119        60    103       124   332.700000\n120        30    112       137   193.900000\n121        45    100       120   100.700000\n122        60    119       169   336.700000\n123        60    107       127   344.900000\n124        60    111       151   368.500000\n125        60     98       122   271.000000\n126        60     97       124   275.300000\n127        60    109       127   382.000000\n128        90     99       125   466.400000\n129        60    114       151   384.000000\n130        60    104       134   342.500000\n131        60    107       138   357.500000\n132        60    103       133   335.000000\n133        60    106       132   327.500000\n134        60    103       136   339.000000\n135        20    136       156   189.000000\n136        45    117       143   317.700000\n137        45    115       137   318.000000\n138        45    113       138   308.000000\n139        20    141       162   222.400000\n140        60    108       135   390.000000\n141        60     97       127   375.790244\n142        45    100       120   250.400000\n143        45    122       149   335.400000\n144        60    136       170   470.200000\n145        45    106       126   270.800000\n146        60    107       136   400.000000\n147        60    112       146   361.900000\n148        30    103       127   185.000000\n149        60    110       150   409.400000\n150        60    106       134   343.000000\n151        60    109       129   353.200000\n152        60    109       138   374.000000\n153        30    150       167   275.800000\n154        60    105       128   328.000000\n155        60    111       151   368.500000\n156        60     97       131   270.400000\n157        60    100       120   270.400000\n158        60    114       150   382.800000\n159        30     80       120   240.900000\n160        30     85       120   250.400000\n161        45     90       130   260.400000\n162        45     95       130   270.000000\n163        45    100       140   280.900000\n164        60    105       140   290.800000\n165        60    110       145   300.000000\n166        60    115       145   310.200000\n167        75    120       150   320.400000\n168        75    125       150   330.400000\n"
     ]
    }
   ],
   "source": [
    "\"\"\"\n",
    "Replace Using Mean, Median, or Mode\n",
    "A common way to replace empty cells, is to calculate the mean, median or mode value of the column.\n",
    "\n",
    "Pandas uses the mean() median() and mode() methods to calculate the respective values for a specified column:\n",
    "\"\"\"\n",
    "# Calculate the MEAN, and replace any empty values with it:\n",
    "x = df[\"Calories\"].mean()\n",
    "df[\"Calories\"].fillna(x, inplace = True)\n",
    "print(df.to_string())"
   ]
  },
  {
   "cell_type": "code",
   "execution_count": null,
   "metadata": {},
   "outputs": [],
   "source": [
    "# Calculate the MEDIAN, and replace any empty values with it:\n",
    "x = df[\"Calories\"].median()\n",
    "df[\"Calories\"].fillna(x, inplace = True)"
   ]
  },
  {
   "cell_type": "code",
   "execution_count": null,
   "metadata": {},
   "outputs": [],
   "source": [
    "# Calculate the MODE, and replace any empty values with it: \n",
    "x = df[\"Calories\"].mode()[0]\n",
    "df[\"Calories\"].fillna(x, inplace = True)"
   ]
  },
  {
   "cell_type": "code",
   "execution_count": 6,
   "metadata": {},
   "outputs": [
    {
     "output_type": "execute_result",
     "data": {
      "text/plain": [
       "     Duration  Pulse  Maxpulse  Calories\n",
       "0          60    110       130     409.1\n",
       "1          60    117       145     479.0\n",
       "2          60    103       135     340.0\n",
       "3          45    109       175     282.4\n",
       "4          45    117       148     406.0\n",
       "..        ...    ...       ...       ...\n",
       "164        60    105       140     290.8\n",
       "165        60    110       145     300.0\n",
       "166        60    115       145     310.2\n",
       "167        75    120       150     320.4\n",
       "168        75    125       150     330.4\n",
       "\n",
       "[169 rows x 4 columns]"
      ],
      "text/html": "<div>\n<style scoped>\n    .dataframe tbody tr th:only-of-type {\n        vertical-align: middle;\n    }\n\n    .dataframe tbody tr th {\n        vertical-align: top;\n    }\n\n    .dataframe thead th {\n        text-align: right;\n    }\n</style>\n<table border=\"1\" class=\"dataframe\">\n  <thead>\n    <tr style=\"text-align: right;\">\n      <th></th>\n      <th>Duration</th>\n      <th>Pulse</th>\n      <th>Maxpulse</th>\n      <th>Calories</th>\n    </tr>\n  </thead>\n  <tbody>\n    <tr>\n      <th>0</th>\n      <td>60</td>\n      <td>110</td>\n      <td>130</td>\n      <td>409.1</td>\n    </tr>\n    <tr>\n      <th>1</th>\n      <td>60</td>\n      <td>117</td>\n      <td>145</td>\n      <td>479.0</td>\n    </tr>\n    <tr>\n      <th>2</th>\n      <td>60</td>\n      <td>103</td>\n      <td>135</td>\n      <td>340.0</td>\n    </tr>\n    <tr>\n      <th>3</th>\n      <td>45</td>\n      <td>109</td>\n      <td>175</td>\n      <td>282.4</td>\n    </tr>\n    <tr>\n      <th>4</th>\n      <td>45</td>\n      <td>117</td>\n      <td>148</td>\n      <td>406.0</td>\n    </tr>\n    <tr>\n      <th>...</th>\n      <td>...</td>\n      <td>...</td>\n      <td>...</td>\n      <td>...</td>\n    </tr>\n    <tr>\n      <th>164</th>\n      <td>60</td>\n      <td>105</td>\n      <td>140</td>\n      <td>290.8</td>\n    </tr>\n    <tr>\n      <th>165</th>\n      <td>60</td>\n      <td>110</td>\n      <td>145</td>\n      <td>300.0</td>\n    </tr>\n    <tr>\n      <th>166</th>\n      <td>60</td>\n      <td>115</td>\n      <td>145</td>\n      <td>310.2</td>\n    </tr>\n    <tr>\n      <th>167</th>\n      <td>75</td>\n      <td>120</td>\n      <td>150</td>\n      <td>320.4</td>\n    </tr>\n    <tr>\n      <th>168</th>\n      <td>75</td>\n      <td>125</td>\n      <td>150</td>\n      <td>330.4</td>\n    </tr>\n  </tbody>\n</table>\n<p>169 rows × 4 columns</p>\n</div>"
     },
     "metadata": {},
     "execution_count": 6
    }
   ],
   "source": [
    "\"\"\"\n",
    "Data of Wrong Format\n",
    "Cells with data of wrong format, can make it difficult, or even impossible, to analyze data.\n",
    "\n",
    "To fix it, you have two options: remove the rows, or convert all cells in the columns into the same format.\n",
    "\"\"\"\n",
    "df = pd.read_csv('F:\\python project\\data.csv')\n",
    "df"
   ]
  }
 ]
}