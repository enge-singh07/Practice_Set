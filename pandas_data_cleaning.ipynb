{
 "metadata": {
  "language_info": {
   "codemirror_mode": {
    "name": "ipython",
    "version": 3
   },
   "file_extension": ".py",
   "mimetype": "text/x-python",
   "name": "python",
   "nbconvert_exporter": "python",
   "pygments_lexer": "ipython3",
   "version": "3.8.5-final"
  },
  "orig_nbformat": 2,
  "kernelspec": {
   "name": "python3",
   "display_name": "Python 3",
   "language": "python"
  }
 },
 "nbformat": 4,
 "nbformat_minor": 2,
 "cells": [
  {
   "cell_type": "code",
   "execution_count": 4,
   "metadata": {
    "tags": [
     "outputPrepend"
    ]
   },
   "outputs": [
    {
     "output_type": "stream",
     "name": "stdout",
     "text": [
      "e  229148  Senior Secondary          18        Married             Transportion    Male              40   42132.450000\n186   58  Self Employed  154537           Masters          29        Married        Executive Manager  Female              20   63874.107500\n187   50        Private  181901            Others          28        Married                   Others    Male              20  459450.000000\n188   18        Private  152004  Senior Secondary           0      Unmarried                   Others    Male              20    5833.340000\n189   27        Private  205188      High School            6        Married         Machine Operator    Male              40    9120.830000\n190   24        Private   66634         Bachelors           2        Married      Frontend Developer     Male              16   32331.200000\n191   38  Self Employed  180220            Others           9        Married                Craftsmen    Male              60   65000.000000\n192   40  Self Employed   99651            Others          12        Married                Professor    Male              60   71435.200000\n193   41        Private  327723           Masters           9       Divorced        Executive Manager    Male              40  215621.000000\n194   32        Private  127384           Masters           7        Married  Machine Learning Expert    Male              55   55000.000000\n195   30        Private  363296            Others           6      Unmarried      Frontend Developer     Male              72   40036.430000\n196   28        Private   30070         Bachelors           4        Married                    Sales    Male              50   32102.750000\n197   31     Government  595000         Bachelors           3        Married                   Others  Female              35   51000.000000\n198   21        Private  152328            Others           0      Unmarried      Frontend Developer     Male              20   17999.990000\n199   33     Government  177824           Masters           4       Divorced                   Others  Female              40  117217.240000\n200   44     Government  111483           Masters          14        Married                Professor    Male              40  257396.060000\n201   22        Private  199555         Bachelors           1      Unmarried     Full Stack Developer    Male              25   22466.625000\n202   42        Private   50018            Others          14        Married                   Others    Male              40   43337.820000\n203   36        Private  218490         Bachelors          12        Married                Craftsmen    Male              35   72447.270000\n204   31        Private  159187           Masters           9       Divorced             Transportion    Male              40   40064.760000\n205   21        Private   83033            Others           0      Unmarried                   Others  Female              25   13125.000000\n206   34  Self Employed   24961           Masters           9        Married        Backend Developer    Male              80   66250.010000\n207   21        Private  182117            Others           0      Unmarried        Backend Developer    Male              15   23444.000000\n208   55  Self Employed  146576         Bachelors          15        Widowed                   Others    Male              48   72746.500000\n209   29        Private  176690           Masters           5        Married     Full Stack Developer    Male              24   74166.670000\n210   26        Private  122651            Others           4        Married                    Sales    Male              15   35000.010000\n211   54  Self Employed  149650         Bachelors           9       Divorced                   Others    Male              40   74291.670000\n212   34        Private  454508         Doctorate          11        Married                Professor    Male              65  171082.990000\n213   41        Private  266530            Others           9        Married                   Others    Male              45   36249.990000\n214   23        Private  198542         Bachelors           1      Unmarried      FrontEnd Developer   Female              40   27872.750000\n215   24        Private  217961           Masters           0      Unmarried         Machine Operator    Male              40   34514.260000\n216   21        Private  221661            Others           1      Unmarried                    Clerk  Female              40   10573.420000\n217   44     Government   60735         Bachelors          13       Divorced                   Others  Female              60  122615.350000\n218   47  Self Employed  121124         Bachelors          13        Married                    Sales    Male              40   61443.510000\n219   31        Private   48588            Others          10        Married                Craftsmen    Male              40   49635.000000\n220   53  Self Employed  240138         Bachelors           9        Married                Craftsmen    Male              60   50842.500000\n221   44        Private  104196           Masters          14        Married     Full Stack Developer    Male              45  151500.010000\n222   37        Private  230035         Doctorate           9        Married                   Others    Male              46  122250.000000\n223   28        Private   38918            Others           7        Married                Craftsmen    Male              50   38811.250000\n224   25     Government  205011           Masters           0      Unmarried      Frontend Developer     Male              10   71000.010000\n225   25  Self Employed   77053         Bachelors           3        Married                  Others   Female              40   25000.000000\n226   28        Private  132870         Bachelors           4        Married        Executive Manager  Female              18   42000.000000\n227   26        Private  186061           Masters           3      Unmarried                  Others   Female              40   27000.000000\n228   32        Private  140359         Bachelors           7       Divorced         Machine Operator  Female              40   22000.000000\n229   37        Private  264663           Masters          10       Divorced                Professor  Female              40   90000.000000\n230   34        Private  216864         Bachelors           9       Divorced                  Others   Female              45   78000.000000\n231   28        Private  150601         Bachelors           6      Separated           Administration    Male              40   33000.000000\n232   45     Government   88638         Doctorate          14      Unmarried                Professor  Female              20  190000.000000\n233   35     Government  422013         Bachelors           9       Divorced                Professor  Female              40  112200.000000\n234   29        Private   70037           Masters          10      Unmarried                Craftsman    Male              60   11220.000000\n235   45        Private  172274         Doctorate          16       Divorced                Professor  Female              35  110662.660000\n236   38  Self Employed  164526         Professor          15  Never-married                Professor    Male              45  108447.100000\n237   52        Private  129177         Bachelors          13        Widowed                  Others   Female              20  103019.000000\n238   32        Private  136204           Masters          14      Separated        Executive Manager    Male              55  100980.010000\n239   46  Self Employed  172175         Doctorate          16      Unmarried                  Others     Male              40   35044.000000\n240   46        Private   45363           Masters          15       Divorced       Frontend Developer    Male              40   45614.000000\n241   45        Private  172822         Bachelors          14       Divorced           Transportation    Male              76   27541.500000\n242   57        Private  317847           Masters          14       Divorced        Executive Manager    Male              50   96900.000000\n243   22        Private  119592         Bachelors           1      Unmarried        Backend Developer    Male              40   25285.590000\n244   34        Private  203034         Bachelors          13        Married                    Sales    Male              50   43430.460000\n245   37        Private  188774         Bachelors          13        Married        Executive Manager    Male              40   93916.970000\n246   29        Private   77009       High School           7      Unmarried                    Sales  Female              42   23000.000000\n247   32        Private   29059         Bachelors           9       Divorced                    Sales  Female              25   33699.260000\n248   51        Private  153870           Masters          10        Married     Full Stack Developer    Male              40   90879.980000\n249   56     Government  135285           Masters           9        Married                Professor    Male              32   89236.800000\n250   21        Private   34310    Administration           1      Unmarried     Full Stack Developer    Male              40   39236.800000\n251   33        Private  228696         Bachelors           8        Married        Backend Developer    Male              32   36236.800000\n252   49        Private  122066       High School          10        Married                  Others     Male              40   29236.800000\n253   37  Self Employed  107164  Senior Secondary           6       Divorced           Transportation    Male              50   32236.800000\n254   38        Private  175360         Bachelors          11      Unmarried                Professor    Male              90   86733.710000\n255   23        Private   44064           Masters          10      Separated     Full Stack Developer    Male              40   36700.020000\n256   59     Government  107287         Bachelors          18        Widowed           Administration  Female              50   86700.020000\n257   52        Private  198863         Doctorate          15       Divorced                Professor    Male              60   86541.040000\n258   45        Private  123011         Bachelors          13       Divorced        Executive Manager    Male              50   86351.160000\n259   51     Government  205246         Bachelors          15        Married           Administration    Male              50   86084.380000\n260   43     Government   39181         Doctorate          16       Divorced                Professor  Female              60   76067.150000\n261   31        Private  149650           Masters           9        Married                    Sales    Male              48   45886.860000\n262   51     Government  197163         Bachelors          15       Divorced        Executive Manager  Female              50   84150.000000\n263   37  Self Employed  137527           Masters          16        Married       Frontend Developer  Female              60   44100.890000\n264   48        Private  161691           Masters          14       Divorced  Machine Learning Expert  Female              40   84015.900000\n265   44        Private  326232         Bachelors          13       Divorced           Administration    Male              50   83606.810000\n266   43        Private  115806           Masters          14       Divorced        Backend Developer  Female              40   53196.980000\n267   32        Private  115066  Senior Secondary          10       Divorced                    Clerk  Female              40   33183.690000\n268   43        Private  289669           Masters          14       Divorced  Machine Learning Expert  Female              40   80113.560000\n269   34        Private  100820         Bachelors           9        Married  Machine Learning Expert    Male              15   68795.000000\n270   48        Private  121253         Bachelors          13        Married                    Sales  Female              70    5506.440000\n271   27        Private  110380         Bachelors           9        Married                    Sales    Male              52   28294.110000\n272   45  Self Employed  233882           Masters           9        Married        Backend Developer    Male              40   48020.360000\n273   68        Private  192052         Doctorate          10        Widowed                Professor  Female              40   77578.320000\n274   57     Government  174995           Masters          10        Married           Administration    Male              40   77518.960000\n275   40  Self Employed  335549           Masters          11      Unmarried  Machine Learning Expert    Male              45   76961.330000\n276   50        Private  237729  Senior Secondary           9        Widowed                  Others   Female              72   46504.000000\n277   51     Government   68898         Bachelors          11       Divorced        Technical Support    Male              39   75678.910000\n278   42        Private  107276           Masters          10        Married        Executive Manager  Female              40   54889.170000\n279   39        Private  141584           Masters          14        Married                    Sales    Male              45   44828.830000\n280   32        Private  207668         Bachelors          13      Unmarried        Backend Developer    Male              50   44769.200000\n281   39        Private  313243           Masters          10        Married                Craftsman    Male              45   34496.720000\n282   40     Government  147372         Bachelors          10        Married                    Clerk    Male              40   42606.330000\n283   38        Private  237608         Bachelors          13        Widowed                    Sales  Female              45   42430.840000\n284   33        Private  194901  Senior Secondary          11       Divorced                  Others     Male              42   31708.520000\n285   43        Private  155106  Senior Secondary          12       Divorced                Craftsman    Male              70   32666.250000\n286   25  Self Employed  121441         Bachelors           3      Unmarried     Full Stack Developer    Male              40   33634.890000\n287   44        Private  162028         Bachelors          10        Married                    Clerk  Female               6   29616.270000\n288   22        Private  160724         Bachelors           1      Unmarried                    Sales    Male              40   25409.580000\n289   41        Private  132222           Masters          15        Married                Professor    Male              40   51400.010000\n290   34  Self Employed  226355         Bachelors          11        Married        Backend Developer    Male              70   41400.010000\n291   37        Private  329980           Masters          14       Divorced                Professor    Male              60   71400.010000\n292   25  Self Employed  124137         Bachelors           2        Married       Frontend Developer    Male              35   30396.580000\n293   39  Self Employed  329980         Bachelors          13        Married                    Sales    Male              60   40146.480000\n294   42        Private  187702           Masters          10        Married                Professor    Male              60   69959.680000\n295   21        Private  199029         Bachelors           0      Unmarried                    Sales    Male              55   21794.540000\n296   28  Self Employed  145290         Bachelors           4        Married        Executive Manager    Male              50   39709.560000\n297   41     Government  297248         Doctorate          10        Married                Professor    Male              45   69643.410000\n298   23        Private  227856         Bachelors           1      Unmarried     Full Stack Developer    Male              50   33000.000000\n299   49        Private  179731           Masters          14        Married           Administration  Female              65   69375.550000\n300   42        Private  154374         Bachelors          13        Married        Executive Manager    Male              60   69359.990000\n301   41        Private   27187           Masters          11        Married  Machine Learning Expert    Male              12   59155.240000\n302   46        Private  326857           Masters          14        Married                    Sales    Male              65   39097.540000\n303   40        Private  160369           Masters          14        Married        Executive Manager    Male              45   38799.020000\n304   32        Private  396745         Bachelors          13      Unmarried       Frontend Developer    Male              48   38559.480000\n305   41        Private  151089           Masters          10        Married         Machine Operator    Male              55   38059.100000\n306   24        Private  336188         Bachelors           1      Unmarried        Backend Developer    Male              80   33000.000000\n307   31        Private  279015           Masters           7      Unmarried        Backend Developer    Male              70   37388.110000\n308   27        Private   43221         Bachelors           4        Married                  Others     Male              40   27228.200000\n309   37  Self Employed   30529           Masters          13        Married  Machine Learning Expert    Male              50   46995.800000\n310   44        Private  201742         Bachelors          13        Married        Executive Manager    Male              50   46681.430000\n311   39  Self Employed  218490         Bachelors          15        Married                Professor    Male              50   50448.690000\n312   43     Government  156996         Bachelors          15        Married                    Clerk    Male              55   46406.480000\n313   21        Private  298449         Bachelors           0      Unmarried        Executive Manager    Male              50   36318.800000\n314   44  Self Employed  191712           Masters          14        Married  Machine Learning Expert    Male              55   66317.720000\n315   39        Private  198654  Senior Secondary          15        Married                Craftsman    Male              67   46300.000000\n316   46  Self Employed  102308         Bachelors          13        Married                    Sales    Male              40   45114.630000\n317   39        Private  348521         Bachelors          10        Married                  Others     Male              99   45976.370000\n318   26        Private   56248         Bachelors           3        Married        Backend Developer    Male              60   35920.800000\n319   31        Private  252752       High School           9        Married                  Others   Female              40   25901.300000\n320   46        Private  192963         Bachelors          13        Married           Administration    Male              35   65858.420000\n321   46  Self Employed  198759           Masters          15        Married                Professor    Male              80   45751.400000\n322   39        Private  143123           Masters          11        Married  Machine Learning Expert    Male              40   65418.140000\n323   39        Private  237713         Bachelors          15        Married                    Sales    Male              99   64803.900000\n324   59        Private   81929         Doctorate          16        Widowed                Professor    Male              45   64739.220000\n325   50  Self Employed  167793           Masters          15        Married  Machine Learning Expert    Male              60   62120.000000\n326   46        Private  456062         Doctorate          16        Married                Professor    Male              55   71000.000000\n"
     ]
    }
   ],
   "source": [
    "import numpy as np\n",
    "import pandas as pd\n",
    "df = pd.read_excel('F:\\python\\Salary.xlsx') # To imports data from excel\n",
    "print(df.to_string()) "
   ]
  },
  {
   "cell_type": "code",
   "execution_count": 16,
   "metadata": {},
   "outputs": [
    {
     "output_type": "execute_result",
     "data": {
      "text/plain": [
       "   Age      Workclass  Fnlwgt    Education  Experience Marital Status  \\\n",
       "0   23        Private  205865    Bachelors           1      Unmarried   \n",
       "1   33  Self Employed  155781  High School          10        Married   \n",
       "2   54  Self Employed  406468    Bachelors          13        Married   \n",
       "3   48        Private  144397    Bachelors          10       Divorced   \n",
       "4   35  Self Employed  372525    Bachelors          12       Unarried   \n",
       "\n",
       "           Occupation     Sex  Hours per Week  Remuneration  \n",
       "0   Executive Manager    Male              28      31577.01  \n",
       "1           Craftsman    Male              60      34000.00  \n",
       "2               Sales    Male              40      37890.69  \n",
       "3  Technical  Support  Female              30      25541.66  \n",
       "4   Executive Manager    Male              40      28454.01  "
      ],
      "text/html": "<div>\n<style scoped>\n    .dataframe tbody tr th:only-of-type {\n        vertical-align: middle;\n    }\n\n    .dataframe tbody tr th {\n        vertical-align: top;\n    }\n\n    .dataframe thead th {\n        text-align: right;\n    }\n</style>\n<table border=\"1\" class=\"dataframe\">\n  <thead>\n    <tr style=\"text-align: right;\">\n      <th></th>\n      <th>Age</th>\n      <th>Workclass</th>\n      <th>Fnlwgt</th>\n      <th>Education</th>\n      <th>Experience</th>\n      <th>Marital Status</th>\n      <th>Occupation</th>\n      <th>Sex</th>\n      <th>Hours per Week</th>\n      <th>Remuneration</th>\n    </tr>\n  </thead>\n  <tbody>\n    <tr>\n      <th>0</th>\n      <td>23</td>\n      <td>Private</td>\n      <td>205865</td>\n      <td>Bachelors</td>\n      <td>1</td>\n      <td>Unmarried</td>\n      <td>Executive Manager</td>\n      <td>Male</td>\n      <td>28</td>\n      <td>31577.01</td>\n    </tr>\n    <tr>\n      <th>1</th>\n      <td>33</td>\n      <td>Self Employed</td>\n      <td>155781</td>\n      <td>High School</td>\n      <td>10</td>\n      <td>Married</td>\n      <td>Craftsman</td>\n      <td>Male</td>\n      <td>60</td>\n      <td>34000.00</td>\n    </tr>\n    <tr>\n      <th>2</th>\n      <td>54</td>\n      <td>Self Employed</td>\n      <td>406468</td>\n      <td>Bachelors</td>\n      <td>13</td>\n      <td>Married</td>\n      <td>Sales</td>\n      <td>Male</td>\n      <td>40</td>\n      <td>37890.69</td>\n    </tr>\n    <tr>\n      <th>3</th>\n      <td>48</td>\n      <td>Private</td>\n      <td>144397</td>\n      <td>Bachelors</td>\n      <td>10</td>\n      <td>Divorced</td>\n      <td>Technical  Support</td>\n      <td>Female</td>\n      <td>30</td>\n      <td>25541.66</td>\n    </tr>\n    <tr>\n      <th>4</th>\n      <td>35</td>\n      <td>Self Employed</td>\n      <td>372525</td>\n      <td>Bachelors</td>\n      <td>12</td>\n      <td>Unarried</td>\n      <td>Executive Manager</td>\n      <td>Male</td>\n      <td>40</td>\n      <td>28454.01</td>\n    </tr>\n  </tbody>\n</table>\n</div>"
     },
     "metadata": {},
     "execution_count": 16
    }
   ],
   "source": [
    "# Renaming Colomn Name\n",
    "df.rename(columns={'Salary':'Remuneration'}).head(5)"
   ]
  },
  {
   "cell_type": "code",
   "execution_count": 17,
   "metadata": {},
   "outputs": [],
   "source": [
    "def rename(x):\n",
    "    return x+\"_x\"\n"
   ]
  },
  {
   "cell_type": "code",
   "execution_count": 28,
   "metadata": {},
   "outputs": [
    {
     "output_type": "execute_result",
     "data": {
      "text/plain": [
       "   Age      Workclass  Fnlwgt    Education  Experience Marital Status  \\\n",
       "0   23        Private  205865    Bachelors           1      Unmarried   \n",
       "1   33  Self Employed  155781  High School          10        Married   \n",
       "2   54  Self Employed  406468    Bachelors          13        Married   \n",
       "3   48        Private  144397    Bachelors          10       Divorced   \n",
       "4   35  Self Employed  372525    Bachelors          12       Unarried   \n",
       "\n",
       "           Occupation     Sex  Hours per Week    Salary  \n",
       "0   Executive Manager    Male              28  31577.01  \n",
       "1           Craftsman    Male              60  34000.00  \n",
       "2               Sales    Male              40  37890.69  \n",
       "3  Technical  Support  Female              30  25541.66  \n",
       "4   Executive Manager    Male              40  28454.01  "
      ],
      "text/html": "<div>\n<style scoped>\n    .dataframe tbody tr th:only-of-type {\n        vertical-align: middle;\n    }\n\n    .dataframe tbody tr th {\n        vertical-align: top;\n    }\n\n    .dataframe thead th {\n        text-align: right;\n    }\n</style>\n<table border=\"1\" class=\"dataframe\">\n  <thead>\n    <tr style=\"text-align: right;\">\n      <th></th>\n      <th>Age</th>\n      <th>Workclass</th>\n      <th>Fnlwgt</th>\n      <th>Education</th>\n      <th>Experience</th>\n      <th>Marital Status</th>\n      <th>Occupation</th>\n      <th>Sex</th>\n      <th>Hours per Week</th>\n      <th>Salary</th>\n    </tr>\n  </thead>\n  <tbody>\n    <tr>\n      <th>0</th>\n      <td>23</td>\n      <td>Private</td>\n      <td>205865</td>\n      <td>Bachelors</td>\n      <td>1</td>\n      <td>Unmarried</td>\n      <td>Executive Manager</td>\n      <td>Male</td>\n      <td>28</td>\n      <td>31577.01</td>\n    </tr>\n    <tr>\n      <th>1</th>\n      <td>33</td>\n      <td>Self Employed</td>\n      <td>155781</td>\n      <td>High School</td>\n      <td>10</td>\n      <td>Married</td>\n      <td>Craftsman</td>\n      <td>Male</td>\n      <td>60</td>\n      <td>34000.00</td>\n    </tr>\n    <tr>\n      <th>2</th>\n      <td>54</td>\n      <td>Self Employed</td>\n      <td>406468</td>\n      <td>Bachelors</td>\n      <td>13</td>\n      <td>Married</td>\n      <td>Sales</td>\n      <td>Male</td>\n      <td>40</td>\n      <td>37890.69</td>\n    </tr>\n    <tr>\n      <th>3</th>\n      <td>48</td>\n      <td>Private</td>\n      <td>144397</td>\n      <td>Bachelors</td>\n      <td>10</td>\n      <td>Divorced</td>\n      <td>Technical  Support</td>\n      <td>Female</td>\n      <td>30</td>\n      <td>25541.66</td>\n    </tr>\n    <tr>\n      <th>4</th>\n      <td>35</td>\n      <td>Self Employed</td>\n      <td>372525</td>\n      <td>Bachelors</td>\n      <td>12</td>\n      <td>Unarried</td>\n      <td>Executive Manager</td>\n      <td>Male</td>\n      <td>40</td>\n      <td>28454.01</td>\n    </tr>\n  </tbody>\n</table>\n</div>"
     },
     "metadata": {},
     "execution_count": 28
    }
   ],
   "source": [
    "df.Workclass.unique()\n",
    "df.rename(columns={'Self Empoye':'Self Employed'}).Workclass.unique()\n",
    "df.head(5)"
   ]
  },
  {
   "cell_type": "code",
   "execution_count": 35,
   "metadata": {},
   "outputs": [
    {
     "output_type": "execute_result",
     "data": {
      "text/plain": [
       "array(['Private', 'Self Employed', 'Government', 'Self Empoyed'],\n",
       "      dtype=object)"
      ]
     },
     "metadata": {},
     "execution_count": 35
    }
   ],
   "source": [
    "df.rename(columns={'Self Empoye':'Self Employed'}).Workclass.unique()"
   ]
  },
  {
   "cell_type": "code",
   "execution_count": 36,
   "metadata": {},
   "outputs": [
    {
     "output_type": "execute_result",
     "data": {
      "text/plain": [
       "   Age      Workclass  Fnlwgt    Education  Experience Marital Status  \\\n",
       "0   23        Private  205865    Bachelors           1      Unmarried   \n",
       "1   33  Self Employed  155781  High School          10        Married   \n",
       "2   54  Self Employed  406468    Bachelors          13        Married   \n",
       "3   48        Private  144397    Bachelors          10       Divorced   \n",
       "4   35  Self Employed  372525    Bachelors          12       Unarried   \n",
       "\n",
       "           Occupation     Sex  Hours per Week    Salary  \n",
       "0   Executive Manager    Male              28  31577.01  \n",
       "1           Craftsman    Male              60  34000.00  \n",
       "2               Sales    Male              40  37890.69  \n",
       "3  Technical  Support  Female              30  25541.66  \n",
       "4   Executive Manager    Male              40  28454.01  "
      ],
      "text/html": "<div>\n<style scoped>\n    .dataframe tbody tr th:only-of-type {\n        vertical-align: middle;\n    }\n\n    .dataframe tbody tr th {\n        vertical-align: top;\n    }\n\n    .dataframe thead th {\n        text-align: right;\n    }\n</style>\n<table border=\"1\" class=\"dataframe\">\n  <thead>\n    <tr style=\"text-align: right;\">\n      <th></th>\n      <th>Age</th>\n      <th>Workclass</th>\n      <th>Fnlwgt</th>\n      <th>Education</th>\n      <th>Experience</th>\n      <th>Marital Status</th>\n      <th>Occupation</th>\n      <th>Sex</th>\n      <th>Hours per Week</th>\n      <th>Salary</th>\n    </tr>\n  </thead>\n  <tbody>\n    <tr>\n      <th>0</th>\n      <td>23</td>\n      <td>Private</td>\n      <td>205865</td>\n      <td>Bachelors</td>\n      <td>1</td>\n      <td>Unmarried</td>\n      <td>Executive Manager</td>\n      <td>Male</td>\n      <td>28</td>\n      <td>31577.01</td>\n    </tr>\n    <tr>\n      <th>1</th>\n      <td>33</td>\n      <td>Self Employed</td>\n      <td>155781</td>\n      <td>High School</td>\n      <td>10</td>\n      <td>Married</td>\n      <td>Craftsman</td>\n      <td>Male</td>\n      <td>60</td>\n      <td>34000.00</td>\n    </tr>\n    <tr>\n      <th>2</th>\n      <td>54</td>\n      <td>Self Employed</td>\n      <td>406468</td>\n      <td>Bachelors</td>\n      <td>13</td>\n      <td>Married</td>\n      <td>Sales</td>\n      <td>Male</td>\n      <td>40</td>\n      <td>37890.69</td>\n    </tr>\n    <tr>\n      <th>3</th>\n      <td>48</td>\n      <td>Private</td>\n      <td>144397</td>\n      <td>Bachelors</td>\n      <td>10</td>\n      <td>Divorced</td>\n      <td>Technical  Support</td>\n      <td>Female</td>\n      <td>30</td>\n      <td>25541.66</td>\n    </tr>\n    <tr>\n      <th>4</th>\n      <td>35</td>\n      <td>Self Employed</td>\n      <td>372525</td>\n      <td>Bachelors</td>\n      <td>12</td>\n      <td>Unarried</td>\n      <td>Executive Manager</td>\n      <td>Male</td>\n      <td>40</td>\n      <td>28454.01</td>\n    </tr>\n  </tbody>\n</table>\n</div>"
     },
     "metadata": {},
     "execution_count": 36
    }
   ],
   "source": [
    "df.head(5)"
   ]
  },
  {
   "cell_type": "code",
   "execution_count": 43,
   "metadata": {},
   "outputs": [
    {
     "output_type": "execute_result",
     "data": {
      "text/plain": [
       "   Age      Workclass  Fnlwgt    Education  Experience Marital Status  \\\n",
       "0   23        Private  205865    Bachelors           1      Unmarried   \n",
       "1   33  Self Employed  155781  High School          10        Married   \n",
       "2   54  Self Employed  406468    Bachelors          13        Married   \n",
       "3   48        Private  144397    Bachelors          10       Divorced   \n",
       "4   35  Self Employed  372525    Bachelors          12       Unarried   \n",
       "5   28        Private  164170       Others           4        Married   \n",
       "6   42  Self Employed  177307       Others          15        Married   \n",
       "7   40        Private  170108      Masters          14        Married   \n",
       "8   47        Private  341995      Masters          10       Divorced   \n",
       "9   22        Private  226508    Bachelors           0      Unmarried   \n",
       "\n",
       "           Occupation     Sex  Hours per Week     Salary  \n",
       "0   Executive Manager    Male              28   31577.01  \n",
       "1           Craftsman    Male              60   34000.00  \n",
       "2     Sales Executive    Male              40   37890.69  \n",
       "3  Technical  Support  Female              30   25541.66  \n",
       "4   Executive Manager    Male              40   28454.01  \n",
       "5      Administration  Female              40   30000.00  \n",
       "6  Frontend Developer    Male              65   24219.99  \n",
       "7           Professor    Male              40  100000.42  \n",
       "8     Sales Executive    Male              55   42750.78  \n",
       "9   Executive Manager  Female              50   37003.99  "
      ],
      "text/html": "<div>\n<style scoped>\n    .dataframe tbody tr th:only-of-type {\n        vertical-align: middle;\n    }\n\n    .dataframe tbody tr th {\n        vertical-align: top;\n    }\n\n    .dataframe thead th {\n        text-align: right;\n    }\n</style>\n<table border=\"1\" class=\"dataframe\">\n  <thead>\n    <tr style=\"text-align: right;\">\n      <th></th>\n      <th>Age</th>\n      <th>Workclass</th>\n      <th>Fnlwgt</th>\n      <th>Education</th>\n      <th>Experience</th>\n      <th>Marital Status</th>\n      <th>Occupation</th>\n      <th>Sex</th>\n      <th>Hours per Week</th>\n      <th>Salary</th>\n    </tr>\n  </thead>\n  <tbody>\n    <tr>\n      <th>0</th>\n      <td>23</td>\n      <td>Private</td>\n      <td>205865</td>\n      <td>Bachelors</td>\n      <td>1</td>\n      <td>Unmarried</td>\n      <td>Executive Manager</td>\n      <td>Male</td>\n      <td>28</td>\n      <td>31577.01</td>\n    </tr>\n    <tr>\n      <th>1</th>\n      <td>33</td>\n      <td>Self Employed</td>\n      <td>155781</td>\n      <td>High School</td>\n      <td>10</td>\n      <td>Married</td>\n      <td>Craftsman</td>\n      <td>Male</td>\n      <td>60</td>\n      <td>34000.00</td>\n    </tr>\n    <tr>\n      <th>2</th>\n      <td>54</td>\n      <td>Self Employed</td>\n      <td>406468</td>\n      <td>Bachelors</td>\n      <td>13</td>\n      <td>Married</td>\n      <td>Sales Executive</td>\n      <td>Male</td>\n      <td>40</td>\n      <td>37890.69</td>\n    </tr>\n    <tr>\n      <th>3</th>\n      <td>48</td>\n      <td>Private</td>\n      <td>144397</td>\n      <td>Bachelors</td>\n      <td>10</td>\n      <td>Divorced</td>\n      <td>Technical  Support</td>\n      <td>Female</td>\n      <td>30</td>\n      <td>25541.66</td>\n    </tr>\n    <tr>\n      <th>4</th>\n      <td>35</td>\n      <td>Self Employed</td>\n      <td>372525</td>\n      <td>Bachelors</td>\n      <td>12</td>\n      <td>Unarried</td>\n      <td>Executive Manager</td>\n      <td>Male</td>\n      <td>40</td>\n      <td>28454.01</td>\n    </tr>\n    <tr>\n      <th>5</th>\n      <td>28</td>\n      <td>Private</td>\n      <td>164170</td>\n      <td>Others</td>\n      <td>4</td>\n      <td>Married</td>\n      <td>Administration</td>\n      <td>Female</td>\n      <td>40</td>\n      <td>30000.00</td>\n    </tr>\n    <tr>\n      <th>6</th>\n      <td>42</td>\n      <td>Self Employed</td>\n      <td>177307</td>\n      <td>Others</td>\n      <td>15</td>\n      <td>Married</td>\n      <td>Frontend Developer</td>\n      <td>Male</td>\n      <td>65</td>\n      <td>24219.99</td>\n    </tr>\n    <tr>\n      <th>7</th>\n      <td>40</td>\n      <td>Private</td>\n      <td>170108</td>\n      <td>Masters</td>\n      <td>14</td>\n      <td>Married</td>\n      <td>Professor</td>\n      <td>Male</td>\n      <td>40</td>\n      <td>100000.42</td>\n    </tr>\n    <tr>\n      <th>8</th>\n      <td>47</td>\n      <td>Private</td>\n      <td>341995</td>\n      <td>Masters</td>\n      <td>10</td>\n      <td>Divorced</td>\n      <td>Sales Executive</td>\n      <td>Male</td>\n      <td>55</td>\n      <td>42750.78</td>\n    </tr>\n    <tr>\n      <th>9</th>\n      <td>22</td>\n      <td>Private</td>\n      <td>226508</td>\n      <td>Bachelors</td>\n      <td>0</td>\n      <td>Unmarried</td>\n      <td>Executive Manager</td>\n      <td>Female</td>\n      <td>50</td>\n      <td>37003.99</td>\n    </tr>\n  </tbody>\n</table>\n</div>"
     },
     "metadata": {},
     "execution_count": 43
    }
   ],
   "source": [
    "# To change Row data\n",
    "df.Occupation.replace(['Sales'],['Sales Executive'], inplace=True)\n",
    "df.Occupation.unique()\n",
    "df.head(10)"
   ]
  },
  {
   "cell_type": "code",
   "execution_count": 48,
   "metadata": {},
   "outputs": [
    {
     "output_type": "execute_result",
     "data": {
      "text/plain": [
       "   Age      Workclass  Fnlwgt    Education  Experience Marital Status  \\\n",
       "0   23        Private  205865    Bachelors           1      Unmarried   \n",
       "1   33  Self Employed  155781  High School          10        Married   \n",
       "2   54  Self Employed  406468    Bachelors          13        Married   \n",
       "3   48        Private  144397    Bachelors          10       Divorced   \n",
       "4   35  Self Employed  372525    Bachelors          12       Unarried   \n",
       "5   28        Private  164170       Others           4        Married   \n",
       "6   42  Self Employed  177307       Others          15        Married   \n",
       "7   40        Private  170108      Masters          14        Married   \n",
       "8   47        Private  341995      Masters          10       Divorced   \n",
       "9   22        Private  226508    Bachelors           0      Unmarried   \n",
       "\n",
       "           Occupation     Sex  Hours per Week     Salary  \n",
       "0   Executive Manager    Male              28   31577.01  \n",
       "1           Craftsman    Male              60   34000.00  \n",
       "2     Sales Associate    Male              40   37890.69  \n",
       "3  Technical  Support  Female              30   25541.66  \n",
       "4   Executive Manager    Male              40   28454.01  \n",
       "5      Administration  Female              40   30000.00  \n",
       "6  Frontend Developer    Male              65   24219.99  \n",
       "7           Professor    Male              40  100000.42  \n",
       "8     Sales Executive    Male              55   42750.78  \n",
       "9   Executive Manager  Female              50   37003.99  "
      ],
      "text/html": "<div>\n<style scoped>\n    .dataframe tbody tr th:only-of-type {\n        vertical-align: middle;\n    }\n\n    .dataframe tbody tr th {\n        vertical-align: top;\n    }\n\n    .dataframe thead th {\n        text-align: right;\n    }\n</style>\n<table border=\"1\" class=\"dataframe\">\n  <thead>\n    <tr style=\"text-align: right;\">\n      <th></th>\n      <th>Age</th>\n      <th>Workclass</th>\n      <th>Fnlwgt</th>\n      <th>Education</th>\n      <th>Experience</th>\n      <th>Marital Status</th>\n      <th>Occupation</th>\n      <th>Sex</th>\n      <th>Hours per Week</th>\n      <th>Salary</th>\n    </tr>\n  </thead>\n  <tbody>\n    <tr>\n      <th>0</th>\n      <td>23</td>\n      <td>Private</td>\n      <td>205865</td>\n      <td>Bachelors</td>\n      <td>1</td>\n      <td>Unmarried</td>\n      <td>Executive Manager</td>\n      <td>Male</td>\n      <td>28</td>\n      <td>31577.01</td>\n    </tr>\n    <tr>\n      <th>1</th>\n      <td>33</td>\n      <td>Self Employed</td>\n      <td>155781</td>\n      <td>High School</td>\n      <td>10</td>\n      <td>Married</td>\n      <td>Craftsman</td>\n      <td>Male</td>\n      <td>60</td>\n      <td>34000.00</td>\n    </tr>\n    <tr>\n      <th>2</th>\n      <td>54</td>\n      <td>Self Employed</td>\n      <td>406468</td>\n      <td>Bachelors</td>\n      <td>13</td>\n      <td>Married</td>\n      <td>Sales Associate</td>\n      <td>Male</td>\n      <td>40</td>\n      <td>37890.69</td>\n    </tr>\n    <tr>\n      <th>3</th>\n      <td>48</td>\n      <td>Private</td>\n      <td>144397</td>\n      <td>Bachelors</td>\n      <td>10</td>\n      <td>Divorced</td>\n      <td>Technical  Support</td>\n      <td>Female</td>\n      <td>30</td>\n      <td>25541.66</td>\n    </tr>\n    <tr>\n      <th>4</th>\n      <td>35</td>\n      <td>Self Employed</td>\n      <td>372525</td>\n      <td>Bachelors</td>\n      <td>12</td>\n      <td>Unarried</td>\n      <td>Executive Manager</td>\n      <td>Male</td>\n      <td>40</td>\n      <td>28454.01</td>\n    </tr>\n    <tr>\n      <th>5</th>\n      <td>28</td>\n      <td>Private</td>\n      <td>164170</td>\n      <td>Others</td>\n      <td>4</td>\n      <td>Married</td>\n      <td>Administration</td>\n      <td>Female</td>\n      <td>40</td>\n      <td>30000.00</td>\n    </tr>\n    <tr>\n      <th>6</th>\n      <td>42</td>\n      <td>Self Employed</td>\n      <td>177307</td>\n      <td>Others</td>\n      <td>15</td>\n      <td>Married</td>\n      <td>Frontend Developer</td>\n      <td>Male</td>\n      <td>65</td>\n      <td>24219.99</td>\n    </tr>\n    <tr>\n      <th>7</th>\n      <td>40</td>\n      <td>Private</td>\n      <td>170108</td>\n      <td>Masters</td>\n      <td>14</td>\n      <td>Married</td>\n      <td>Professor</td>\n      <td>Male</td>\n      <td>40</td>\n      <td>100000.42</td>\n    </tr>\n    <tr>\n      <th>8</th>\n      <td>47</td>\n      <td>Private</td>\n      <td>341995</td>\n      <td>Masters</td>\n      <td>10</td>\n      <td>Divorced</td>\n      <td>Sales Executive</td>\n      <td>Male</td>\n      <td>55</td>\n      <td>42750.78</td>\n    </tr>\n    <tr>\n      <th>9</th>\n      <td>22</td>\n      <td>Private</td>\n      <td>226508</td>\n      <td>Bachelors</td>\n      <td>0</td>\n      <td>Unmarried</td>\n      <td>Executive Manager</td>\n      <td>Female</td>\n      <td>50</td>\n      <td>37003.99</td>\n    </tr>\n  </tbody>\n</table>\n</div>"
     },
     "metadata": {},
     "execution_count": 48
    }
   ],
   "source": [
    "df.iloc[2].Occupation = 'Sales Associate'\n",
    "df.loc[2] = df.loc[2].replace('Sales Executive', 'Sales Associate')\n",
    "df.loc[2]\n",
    "df.head(10)"
   ]
  },
  {
   "cell_type": "code",
   "execution_count": 49,
   "metadata": {},
   "outputs": [
    {
     "output_type": "execute_result",
     "data": {
      "text/plain": [
       "       Age  Workclass  Fnlwgt  Education  Experience  Marital Status  \\\n",
       "0    False      False   False      False       False           False   \n",
       "1    False      False   False      False       False           False   \n",
       "2    False      False   False      False       False           False   \n",
       "3    False      False   False      False       False           False   \n",
       "4    False      False   False      False       False           False   \n",
       "..     ...        ...     ...        ...         ...             ...   \n",
       "322  False      False   False      False       False           False   \n",
       "323  False      False   False      False       False           False   \n",
       "324  False      False   False      False       False           False   \n",
       "325  False      False   False      False       False           False   \n",
       "326  False      False   False      False       False           False   \n",
       "\n",
       "     Occupation    Sex  Hours per Week  Salary  \n",
       "0         False  False           False   False  \n",
       "1         False  False           False   False  \n",
       "2         False  False           False   False  \n",
       "3         False  False           False   False  \n",
       "4         False  False           False   False  \n",
       "..          ...    ...             ...     ...  \n",
       "322       False  False           False   False  \n",
       "323       False  False           False   False  \n",
       "324       False  False           False   False  \n",
       "325       False  False           False   False  \n",
       "326       False  False           False   False  \n",
       "\n",
       "[327 rows x 10 columns]"
      ],
      "text/html": "<div>\n<style scoped>\n    .dataframe tbody tr th:only-of-type {\n        vertical-align: middle;\n    }\n\n    .dataframe tbody tr th {\n        vertical-align: top;\n    }\n\n    .dataframe thead th {\n        text-align: right;\n    }\n</style>\n<table border=\"1\" class=\"dataframe\">\n  <thead>\n    <tr style=\"text-align: right;\">\n      <th></th>\n      <th>Age</th>\n      <th>Workclass</th>\n      <th>Fnlwgt</th>\n      <th>Education</th>\n      <th>Experience</th>\n      <th>Marital Status</th>\n      <th>Occupation</th>\n      <th>Sex</th>\n      <th>Hours per Week</th>\n      <th>Salary</th>\n    </tr>\n  </thead>\n  <tbody>\n    <tr>\n      <th>0</th>\n      <td>False</td>\n      <td>False</td>\n      <td>False</td>\n      <td>False</td>\n      <td>False</td>\n      <td>False</td>\n      <td>False</td>\n      <td>False</td>\n      <td>False</td>\n      <td>False</td>\n    </tr>\n    <tr>\n      <th>1</th>\n      <td>False</td>\n      <td>False</td>\n      <td>False</td>\n      <td>False</td>\n      <td>False</td>\n      <td>False</td>\n      <td>False</td>\n      <td>False</td>\n      <td>False</td>\n      <td>False</td>\n    </tr>\n    <tr>\n      <th>2</th>\n      <td>False</td>\n      <td>False</td>\n      <td>False</td>\n      <td>False</td>\n      <td>False</td>\n      <td>False</td>\n      <td>False</td>\n      <td>False</td>\n      <td>False</td>\n      <td>False</td>\n    </tr>\n    <tr>\n      <th>3</th>\n      <td>False</td>\n      <td>False</td>\n      <td>False</td>\n      <td>False</td>\n      <td>False</td>\n      <td>False</td>\n      <td>False</td>\n      <td>False</td>\n      <td>False</td>\n      <td>False</td>\n    </tr>\n    <tr>\n      <th>4</th>\n      <td>False</td>\n      <td>False</td>\n      <td>False</td>\n      <td>False</td>\n      <td>False</td>\n      <td>False</td>\n      <td>False</td>\n      <td>False</td>\n      <td>False</td>\n      <td>False</td>\n    </tr>\n    <tr>\n      <th>...</th>\n      <td>...</td>\n      <td>...</td>\n      <td>...</td>\n      <td>...</td>\n      <td>...</td>\n      <td>...</td>\n      <td>...</td>\n      <td>...</td>\n      <td>...</td>\n      <td>...</td>\n    </tr>\n    <tr>\n      <th>322</th>\n      <td>False</td>\n      <td>False</td>\n      <td>False</td>\n      <td>False</td>\n      <td>False</td>\n      <td>False</td>\n      <td>False</td>\n      <td>False</td>\n      <td>False</td>\n      <td>False</td>\n    </tr>\n    <tr>\n      <th>323</th>\n      <td>False</td>\n      <td>False</td>\n      <td>False</td>\n      <td>False</td>\n      <td>False</td>\n      <td>False</td>\n      <td>False</td>\n      <td>False</td>\n      <td>False</td>\n      <td>False</td>\n    </tr>\n    <tr>\n      <th>324</th>\n      <td>False</td>\n      <td>False</td>\n      <td>False</td>\n      <td>False</td>\n      <td>False</td>\n      <td>False</td>\n      <td>False</td>\n      <td>False</td>\n      <td>False</td>\n      <td>False</td>\n    </tr>\n    <tr>\n      <th>325</th>\n      <td>False</td>\n      <td>False</td>\n      <td>False</td>\n      <td>False</td>\n      <td>False</td>\n      <td>False</td>\n      <td>False</td>\n      <td>False</td>\n      <td>False</td>\n      <td>False</td>\n    </tr>\n    <tr>\n      <th>326</th>\n      <td>False</td>\n      <td>False</td>\n      <td>False</td>\n      <td>False</td>\n      <td>False</td>\n      <td>False</td>\n      <td>False</td>\n      <td>False</td>\n      <td>False</td>\n      <td>False</td>\n    </tr>\n  </tbody>\n</table>\n<p>327 rows × 10 columns</p>\n</div>"
     },
     "metadata": {},
     "execution_count": 49
    }
   ],
   "source": [
    "# To check missing or Null values\n",
    "df.isnull() # It gives values in true/false"
   ]
  }
 ]
}