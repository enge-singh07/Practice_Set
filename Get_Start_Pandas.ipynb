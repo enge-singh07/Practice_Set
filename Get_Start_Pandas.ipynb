{
 "metadata": {
  "language_info": {
   "codemirror_mode": {
    "name": "ipython",
    "version": 3
   },
   "file_extension": ".py",
   "mimetype": "text/x-python",
   "name": "python",
   "nbconvert_exporter": "python",
   "pygments_lexer": "ipython3",
   "version": "3.8.5-final"
  },
  "orig_nbformat": 2,
  "kernelspec": {
   "name": "python3",
   "display_name": "Python 3",
   "language": "python"
  }
 },
 "nbformat": 4,
 "nbformat_minor": 2,
 "cells": [
  {
   "cell_type": "code",
   "execution_count": 3,
   "metadata": {},
   "outputs": [
    {
     "output_type": "execute_result",
     "data": {
      "text/plain": [
       "0    1\n",
       "1    2\n",
       "2    3\n",
       "3    4\n",
       "4    5\n",
       "5    6\n",
       "dtype: int64"
      ]
     },
     "metadata": {},
     "execution_count": 3
    }
   ],
   "source": [
    "d=[1,2,3,4,5,6]\n",
    "import pandas as pd\n",
    "pd.Series(data=d)"
   ]
  },
  {
   "cell_type": "code",
   "execution_count": 7,
   "metadata": {},
   "outputs": [
    {
     "output_type": "execute_result",
     "data": {
      "text/plain": [
       "a    1\n",
       "b    2\n",
       "c    3\n",
       "d    4\n",
       "e    5\n",
       "f    6\n",
       "dtype: int64"
      ]
     },
     "metadata": {},
     "execution_count": 7
    }
   ],
   "source": [
    "d=[1,2,3,4,5,6]\n",
    "i=['a','b','c','d','e','f']\n",
    "import pandas as pd\n",
    "s1=pd.Series(data=d, index=i)\n",
    "s1"
   ]
  },
  {
   "cell_type": "code",
   "execution_count": 9,
   "metadata": {},
   "outputs": [
    {
     "output_type": "stream",
     "name": "stdout",
     "text": [
      "    cars  passings\n0    BMW         3\n1  Volvo         7\n2   Ford         2\n"
     ]
    }
   ],
   "source": [
    "import pandas\n",
    "mydataset = {\n",
    "  'cars': [\"BMW\", \"Volvo\", \"Ford\"],\n",
    "  'passings': [3, 7, 2]\n",
    "}\n",
    "\n",
    "myvar = pandas.DataFrame(mydataset)\n",
    "\n",
    "print(myvar)"
   ]
  },
  {
   "cell_type": "code",
   "execution_count": 10,
   "metadata": {},
   "outputs": [
    {
     "output_type": "stream",
     "name": "stdout",
     "text": [
      "   calories  duration\n0       420        50\n1       380        40\n2       390        45\n"
     ]
    }
   ],
   "source": [
    "import pandas as pd\n",
    "\n",
    "data = {\n",
    "  \"calories\": [420, 380, 390],\n",
    "  \"duration\": [50, 40, 45]\n",
    "}\n",
    "\n",
    "#load data into a DataFrame object:\n",
    "df = pd.DataFrame(data)\n",
    "\n",
    "print(df)"
   ]
  },
  {
   "cell_type": "code",
   "execution_count": 23,
   "metadata": {},
   "outputs": [
    {
     "output_type": "execute_result",
     "data": {
      "text/plain": [
       "   ind  aus  can  uk  sri\n",
       "a    2    3    4   2    2\n",
       "b    4    2    3   4    0\n",
       "c    1    1    4   0    2\n",
       "d    2    1    0   3    4\n",
       "e    2    4    4   4    3"
      ],
      "text/html": "<div>\n<style scoped>\n    .dataframe tbody tr th:only-of-type {\n        vertical-align: middle;\n    }\n\n    .dataframe tbody tr th {\n        vertical-align: top;\n    }\n\n    .dataframe thead th {\n        text-align: right;\n    }\n</style>\n<table border=\"1\" class=\"dataframe\">\n  <thead>\n    <tr style=\"text-align: right;\">\n      <th></th>\n      <th>ind</th>\n      <th>aus</th>\n      <th>can</th>\n      <th>uk</th>\n      <th>sri</th>\n    </tr>\n  </thead>\n  <tbody>\n    <tr>\n      <th>a</th>\n      <td>2</td>\n      <td>3</td>\n      <td>4</td>\n      <td>2</td>\n      <td>2</td>\n    </tr>\n    <tr>\n      <th>b</th>\n      <td>4</td>\n      <td>2</td>\n      <td>3</td>\n      <td>4</td>\n      <td>0</td>\n    </tr>\n    <tr>\n      <th>c</th>\n      <td>1</td>\n      <td>1</td>\n      <td>4</td>\n      <td>0</td>\n      <td>2</td>\n    </tr>\n    <tr>\n      <th>d</th>\n      <td>2</td>\n      <td>1</td>\n      <td>0</td>\n      <td>3</td>\n      <td>4</td>\n    </tr>\n    <tr>\n      <th>e</th>\n      <td>2</td>\n      <td>4</td>\n      <td>4</td>\n      <td>4</td>\n      <td>3</td>\n    </tr>\n  </tbody>\n</table>\n</div>"
     },
     "metadata": {},
     "execution_count": 23
    }
   ],
   "source": [
    "import numpy as np\n",
    "d3=np.random.randint(5,size=(5,5))\n",
    "df=pd.DataFrame(data=d3,index=['a','b','c','d','e'], columns=['ind','aus','can','uk','sri'])\n",
    "df"
   ]
  },
  {
   "cell_type": "code",
   "execution_count": 32,
   "metadata": {},
   "outputs": [
    {
     "output_type": "execute_result",
     "data": {
      "text/plain": [
       "   ind  aus  can  uk  sri\n",
       "d    2    1    0   3    4\n",
       "e    2    4    4   4    3"
      ],
      "text/html": "<div>\n<style scoped>\n    .dataframe tbody tr th:only-of-type {\n        vertical-align: middle;\n    }\n\n    .dataframe tbody tr th {\n        vertical-align: top;\n    }\n\n    .dataframe thead th {\n        text-align: right;\n    }\n</style>\n<table border=\"1\" class=\"dataframe\">\n  <thead>\n    <tr style=\"text-align: right;\">\n      <th></th>\n      <th>ind</th>\n      <th>aus</th>\n      <th>can</th>\n      <th>uk</th>\n      <th>sri</th>\n    </tr>\n  </thead>\n  <tbody>\n    <tr>\n      <th>d</th>\n      <td>2</td>\n      <td>1</td>\n      <td>0</td>\n      <td>3</td>\n      <td>4</td>\n    </tr>\n    <tr>\n      <th>e</th>\n      <td>2</td>\n      <td>4</td>\n      <td>4</td>\n      <td>4</td>\n      <td>3</td>\n    </tr>\n  </tbody>\n</table>\n</div>"
     },
     "metadata": {},
     "execution_count": 32
    }
   ],
   "source": [
    "df.shape\n",
    "df.size\n",
    "df.columns\n",
    "df.info()\n",
    "df.describe()\n",
    "df.head(2)\n",
    "df.tail(2)"
   ]
  },
  {
   "cell_type": "code",
   "execution_count": 33,
   "metadata": {},
   "outputs": [
    {
     "output_type": "execute_result",
     "data": {
      "text/plain": [
       "            ind       aus       can        uk       sri\n",
       "count  2.000000  2.000000  2.000000  2.000000  2.000000\n",
       "mean   3.000000  2.500000  3.500000  3.000000  1.000000\n",
       "std    1.414214  0.707107  0.707107  1.414214  1.414214\n",
       "min    2.000000  2.000000  3.000000  2.000000  0.000000\n",
       "25%    2.500000  2.250000  3.250000  2.500000  0.500000\n",
       "50%    3.000000  2.500000  3.500000  3.000000  1.000000\n",
       "75%    3.500000  2.750000  3.750000  3.500000  1.500000\n",
       "max    4.000000  3.000000  4.000000  4.000000  2.000000"
      ],
      "text/html": "<div>\n<style scoped>\n    .dataframe tbody tr th:only-of-type {\n        vertical-align: middle;\n    }\n\n    .dataframe tbody tr th {\n        vertical-align: top;\n    }\n\n    .dataframe thead th {\n        text-align: right;\n    }\n</style>\n<table border=\"1\" class=\"dataframe\">\n  <thead>\n    <tr style=\"text-align: right;\">\n      <th></th>\n      <th>ind</th>\n      <th>aus</th>\n      <th>can</th>\n      <th>uk</th>\n      <th>sri</th>\n    </tr>\n  </thead>\n  <tbody>\n    <tr>\n      <th>count</th>\n      <td>2.000000</td>\n      <td>2.000000</td>\n      <td>2.000000</td>\n      <td>2.000000</td>\n      <td>2.000000</td>\n    </tr>\n    <tr>\n      <th>mean</th>\n      <td>3.000000</td>\n      <td>2.500000</td>\n      <td>3.500000</td>\n      <td>3.000000</td>\n      <td>1.000000</td>\n    </tr>\n    <tr>\n      <th>std</th>\n      <td>1.414214</td>\n      <td>0.707107</td>\n      <td>0.707107</td>\n      <td>1.414214</td>\n      <td>1.414214</td>\n    </tr>\n    <tr>\n      <th>min</th>\n      <td>2.000000</td>\n      <td>2.000000</td>\n      <td>3.000000</td>\n      <td>2.000000</td>\n      <td>0.000000</td>\n    </tr>\n    <tr>\n      <th>25%</th>\n      <td>2.500000</td>\n      <td>2.250000</td>\n      <td>3.250000</td>\n      <td>2.500000</td>\n      <td>0.500000</td>\n    </tr>\n    <tr>\n      <th>50%</th>\n      <td>3.000000</td>\n      <td>2.500000</td>\n      <td>3.500000</td>\n      <td>3.000000</td>\n      <td>1.000000</td>\n    </tr>\n    <tr>\n      <th>75%</th>\n      <td>3.500000</td>\n      <td>2.750000</td>\n      <td>3.750000</td>\n      <td>3.500000</td>\n      <td>1.500000</td>\n    </tr>\n    <tr>\n      <th>max</th>\n      <td>4.000000</td>\n      <td>3.000000</td>\n      <td>4.000000</td>\n      <td>4.000000</td>\n      <td>2.000000</td>\n    </tr>\n  </tbody>\n</table>\n</div>"
     },
     "metadata": {},
     "execution_count": 33
    }
   ],
   "source": [
    "df.head(2).describe()"
   ]
  },
  {
   "cell_type": "code",
   "execution_count": 38,
   "metadata": {},
   "outputs": [
    {
     "output_type": "execute_result",
     "data": {
      "text/plain": [
       "ind    b\n",
       "aus    e\n",
       "can    a\n",
       "uk     b\n",
       "sri    d\n",
       "dtype: object"
      ]
     },
     "metadata": {},
     "execution_count": 38
    }
   ],
   "source": [
    "# Description with aggregate function\n",
    "df.count()\n",
    "df.sum(axis=1)\n",
    "df.min()\n",
    "df.max()\n",
    "df.mean()\n",
    "df.median()\n",
    "df.idxmin()\n",
    "df.idxmax()"
   ]
  },
  {
   "cell_type": "code",
   "execution_count": 39,
   "metadata": {},
   "outputs": [
    {
     "output_type": "execute_result",
     "data": {
      "text/plain": [
       "   ind  aus  can  uk  sri\n",
       "a    2    3    4   2    2\n",
       "b    4    2    3   4    0\n",
       "c    1    1    4   0    2\n",
       "d    2    1    0   3    4\n",
       "e    2    4    4   4    3"
      ],
      "text/html": "<div>\n<style scoped>\n    .dataframe tbody tr th:only-of-type {\n        vertical-align: middle;\n    }\n\n    .dataframe tbody tr th {\n        vertical-align: top;\n    }\n\n    .dataframe thead th {\n        text-align: right;\n    }\n</style>\n<table border=\"1\" class=\"dataframe\">\n  <thead>\n    <tr style=\"text-align: right;\">\n      <th></th>\n      <th>ind</th>\n      <th>aus</th>\n      <th>can</th>\n      <th>uk</th>\n      <th>sri</th>\n    </tr>\n  </thead>\n  <tbody>\n    <tr>\n      <th>a</th>\n      <td>2</td>\n      <td>3</td>\n      <td>4</td>\n      <td>2</td>\n      <td>2</td>\n    </tr>\n    <tr>\n      <th>b</th>\n      <td>4</td>\n      <td>2</td>\n      <td>3</td>\n      <td>4</td>\n      <td>0</td>\n    </tr>\n    <tr>\n      <th>c</th>\n      <td>1</td>\n      <td>1</td>\n      <td>4</td>\n      <td>0</td>\n      <td>2</td>\n    </tr>\n    <tr>\n      <th>d</th>\n      <td>2</td>\n      <td>1</td>\n      <td>0</td>\n      <td>3</td>\n      <td>4</td>\n    </tr>\n    <tr>\n      <th>e</th>\n      <td>2</td>\n      <td>4</td>\n      <td>4</td>\n      <td>4</td>\n      <td>3</td>\n    </tr>\n  </tbody>\n</table>\n</div>"
     },
     "metadata": {},
     "execution_count": 39
    }
   ],
   "source": [
    "df"
   ]
  },
  {
   "cell_type": "code",
   "execution_count": 41,
   "metadata": {},
   "outputs": [
    {
     "output_type": "execute_result",
     "data": {
      "text/plain": [
       "a    ind\n",
       "b    sri\n",
       "c     uk\n",
       "d    can\n",
       "e    ind\n",
       "dtype: object"
      ]
     },
     "metadata": {},
     "execution_count": 41
    }
   ],
   "source": [
    "df.idxmin(axis=1)"
   ]
  },
  {
   "cell_type": "code",
   "execution_count": 16,
   "metadata": {},
   "outputs": [
    {
     "output_type": "execute_result",
     "data": {
      "text/plain": [
       "{'data': array([[1.799e+01, 1.038e+01, 1.228e+02, ..., 2.654e-01, 4.601e-01,\n",
       "         1.189e-01],\n",
       "        [2.057e+01, 1.777e+01, 1.329e+02, ..., 1.860e-01, 2.750e-01,\n",
       "         8.902e-02],\n",
       "        [1.969e+01, 2.125e+01, 1.300e+02, ..., 2.430e-01, 3.613e-01,\n",
       "         8.758e-02],\n",
       "        ...,\n",
       "        [1.660e+01, 2.808e+01, 1.083e+02, ..., 1.418e-01, 2.218e-01,\n",
       "         7.820e-02],\n",
       "        [2.060e+01, 2.933e+01, 1.401e+02, ..., 2.650e-01, 4.087e-01,\n",
       "         1.240e-01],\n",
       "        [7.760e+00, 2.454e+01, 4.792e+01, ..., 0.000e+00, 2.871e-01,\n",
       "         7.039e-02]]),\n",
       " 'target': array([0, 0, 0, 0, 0, 0, 0, 0, 0, 0, 0, 0, 0, 0, 0, 0, 0, 0, 0, 1, 1, 1,\n",
       "        0, 0, 0, 0, 0, 0, 0, 0, 0, 0, 0, 0, 0, 0, 0, 1, 0, 0, 0, 0, 0, 0,\n",
       "        0, 0, 1, 0, 1, 1, 1, 1, 1, 0, 0, 1, 0, 0, 1, 1, 1, 1, 0, 1, 0, 0,\n",
       "        1, 1, 1, 1, 0, 1, 0, 0, 1, 0, 1, 0, 0, 1, 1, 1, 0, 0, 1, 0, 0, 0,\n",
       "        1, 1, 1, 0, 1, 1, 0, 0, 1, 1, 1, 0, 0, 1, 1, 1, 1, 0, 1, 1, 0, 1,\n",
       "        1, 1, 1, 1, 1, 1, 1, 0, 0, 0, 1, 0, 0, 1, 1, 1, 0, 0, 1, 0, 1, 0,\n",
       "        0, 1, 0, 0, 1, 1, 0, 1, 1, 0, 1, 1, 1, 1, 0, 1, 1, 1, 1, 1, 1, 1,\n",
       "        1, 1, 0, 1, 1, 1, 1, 0, 0, 1, 0, 1, 1, 0, 0, 1, 1, 0, 0, 1, 1, 1,\n",
       "        1, 0, 1, 1, 0, 0, 0, 1, 0, 1, 0, 1, 1, 1, 0, 1, 1, 0, 0, 1, 0, 0,\n",
       "        0, 0, 1, 0, 0, 0, 1, 0, 1, 0, 1, 1, 0, 1, 0, 0, 0, 0, 1, 1, 0, 0,\n",
       "        1, 1, 1, 0, 1, 1, 1, 1, 1, 0, 0, 1, 1, 0, 1, 1, 0, 0, 1, 0, 1, 1,\n",
       "        1, 1, 0, 1, 1, 1, 1, 1, 0, 1, 0, 0, 0, 0, 0, 0, 0, 0, 0, 0, 0, 0,\n",
       "        0, 0, 1, 1, 1, 1, 1, 1, 0, 1, 0, 1, 1, 0, 1, 1, 0, 1, 0, 0, 1, 1,\n",
       "        1, 1, 1, 1, 1, 1, 1, 1, 1, 1, 1, 0, 1, 1, 0, 1, 0, 1, 1, 1, 1, 1,\n",
       "        1, 1, 1, 1, 1, 1, 1, 1, 1, 0, 1, 1, 1, 0, 1, 0, 1, 1, 1, 1, 0, 0,\n",
       "        0, 1, 1, 1, 1, 0, 1, 0, 1, 0, 1, 1, 1, 0, 1, 1, 1, 1, 1, 1, 1, 0,\n",
       "        0, 0, 1, 1, 1, 1, 1, 1, 1, 1, 1, 1, 1, 0, 0, 1, 0, 0, 0, 1, 0, 0,\n",
       "        1, 1, 1, 1, 1, 0, 1, 1, 1, 1, 1, 0, 1, 1, 1, 0, 1, 1, 0, 0, 1, 1,\n",
       "        1, 1, 1, 1, 0, 1, 1, 1, 1, 1, 1, 1, 0, 1, 1, 1, 1, 1, 0, 1, 1, 0,\n",
       "        1, 1, 1, 1, 1, 1, 1, 1, 1, 1, 1, 1, 0, 1, 0, 0, 1, 0, 1, 1, 1, 1,\n",
       "        1, 0, 1, 1, 0, 1, 0, 1, 1, 0, 1, 0, 1, 1, 1, 1, 1, 1, 1, 1, 0, 0,\n",
       "        1, 1, 1, 1, 1, 1, 0, 1, 1, 1, 1, 1, 1, 1, 1, 1, 1, 0, 1, 1, 1, 1,\n",
       "        1, 1, 1, 0, 1, 0, 1, 1, 0, 1, 1, 1, 1, 1, 0, 0, 1, 0, 1, 0, 1, 1,\n",
       "        1, 1, 1, 0, 1, 1, 0, 1, 0, 1, 0, 0, 1, 1, 1, 0, 1, 1, 1, 1, 1, 1,\n",
       "        1, 1, 1, 1, 1, 0, 1, 0, 0, 1, 1, 1, 1, 1, 1, 1, 1, 1, 1, 1, 1, 1,\n",
       "        1, 1, 1, 1, 1, 1, 1, 1, 1, 1, 1, 1, 0, 0, 0, 0, 0, 0, 1]),\n",
       " 'frame': None,\n",
       " 'target_names': array(['malignant', 'benign'], dtype='<U9'),\n",
       " 'DESCR': '.. _breast_cancer_dataset:\\n\\nBreast cancer wisconsin (diagnostic) dataset\\n--------------------------------------------\\n\\n**Data Set Characteristics:**\\n\\n    :Number of Instances: 569\\n\\n    :Number of Attributes: 30 numeric, predictive attributes and the class\\n\\n    :Attribute Information:\\n        - radius (mean of distances from center to points on the perimeter)\\n        - texture (standard deviation of gray-scale values)\\n        - perimeter\\n        - area\\n        - smoothness (local variation in radius lengths)\\n        - compactness (perimeter^2 / area - 1.0)\\n        - concavity (severity of concave portions of the contour)\\n        - concave points (number of concave portions of the contour)\\n        - symmetry\\n        - fractal dimension (\"coastline approximation\" - 1)\\n\\n        The mean, standard error, and \"worst\" or largest (mean of the three\\n        worst/largest values) of these features were computed for each image,\\n        resulting in 30 features.  For instance, field 0 is Mean Radius, field\\n        10 is Radius SE, field 20 is Worst Radius.\\n\\n        - class:\\n                - WDBC-Malignant\\n                - WDBC-Benign\\n\\n    :Summary Statistics:\\n\\n    ===================================== ====== ======\\n                                           Min    Max\\n    ===================================== ====== ======\\n    radius (mean):                        6.981  28.11\\n    texture (mean):                       9.71   39.28\\n    perimeter (mean):                     43.79  188.5\\n    area (mean):                          143.5  2501.0\\n    smoothness (mean):                    0.053  0.163\\n    compactness (mean):                   0.019  0.345\\n    concavity (mean):                     0.0    0.427\\n    concave points (mean):                0.0    0.201\\n    symmetry (mean):                      0.106  0.304\\n    fractal dimension (mean):             0.05   0.097\\n    radius (standard error):              0.112  2.873\\n    texture (standard error):             0.36   4.885\\n    perimeter (standard error):           0.757  21.98\\n    area (standard error):                6.802  542.2\\n    smoothness (standard error):          0.002  0.031\\n    compactness (standard error):         0.002  0.135\\n    concavity (standard error):           0.0    0.396\\n    concave points (standard error):      0.0    0.053\\n    symmetry (standard error):            0.008  0.079\\n    fractal dimension (standard error):   0.001  0.03\\n    radius (worst):                       7.93   36.04\\n    texture (worst):                      12.02  49.54\\n    perimeter (worst):                    50.41  251.2\\n    area (worst):                         185.2  4254.0\\n    smoothness (worst):                   0.071  0.223\\n    compactness (worst):                  0.027  1.058\\n    concavity (worst):                    0.0    1.252\\n    concave points (worst):               0.0    0.291\\n    symmetry (worst):                     0.156  0.664\\n    fractal dimension (worst):            0.055  0.208\\n    ===================================== ====== ======\\n\\n    :Missing Attribute Values: None\\n\\n    :Class Distribution: 212 - Malignant, 357 - Benign\\n\\n    :Creator:  Dr. William H. Wolberg, W. Nick Street, Olvi L. Mangasarian\\n\\n    :Donor: Nick Street\\n\\n    :Date: November, 1995\\n\\nThis is a copy of UCI ML Breast Cancer Wisconsin (Diagnostic) datasets.\\nhttps://goo.gl/U2Uwz2\\n\\nFeatures are computed from a digitized image of a fine needle\\naspirate (FNA) of a breast mass.  They describe\\ncharacteristics of the cell nuclei present in the image.\\n\\nSeparating plane described above was obtained using\\nMultisurface Method-Tree (MSM-T) [K. P. Bennett, \"Decision Tree\\nConstruction Via Linear Programming.\" Proceedings of the 4th\\nMidwest Artificial Intelligence and Cognitive Science Society,\\npp. 97-101, 1992], a classification method which uses linear\\nprogramming to construct a decision tree.  Relevant features\\nwere selected using an exhaustive search in the space of 1-4\\nfeatures and 1-3 separating planes.\\n\\nThe actual linear program used to obtain the separating plane\\nin the 3-dimensional space is that described in:\\n[K. P. Bennett and O. L. Mangasarian: \"Robust Linear\\nProgramming Discrimination of Two Linearly Inseparable Sets\",\\nOptimization Methods and Software 1, 1992, 23-34].\\n\\nThis database is also available through the UW CS ftp server:\\n\\nftp ftp.cs.wisc.edu\\ncd math-prog/cpo-dataset/machine-learn/WDBC/\\n\\n.. topic:: References\\n\\n   - W.N. Street, W.H. Wolberg and O.L. Mangasarian. Nuclear feature extraction \\n     for breast tumor diagnosis. IS&T/SPIE 1993 International Symposium on \\n     Electronic Imaging: Science and Technology, volume 1905, pages 861-870,\\n     San Jose, CA, 1993.\\n   - O.L. Mangasarian, W.N. Street and W.H. Wolberg. Breast cancer diagnosis and \\n     prognosis via linear programming. Operations Research, 43(4), pages 570-577, \\n     July-August 1995.\\n   - W.H. Wolberg, W.N. Street, and O.L. Mangasarian. Machine learning techniques\\n     to diagnose breast cancer from fine-needle aspirates. Cancer Letters 77 (1994) \\n     163-171.',\n",
       " 'feature_names': array(['mean radius', 'mean texture', 'mean perimeter', 'mean area',\n",
       "        'mean smoothness', 'mean compactness', 'mean concavity',\n",
       "        'mean concave points', 'mean symmetry', 'mean fractal dimension',\n",
       "        'radius error', 'texture error', 'perimeter error', 'area error',\n",
       "        'smoothness error', 'compactness error', 'concavity error',\n",
       "        'concave points error', 'symmetry error',\n",
       "        'fractal dimension error', 'worst radius', 'worst texture',\n",
       "        'worst perimeter', 'worst area', 'worst smoothness',\n",
       "        'worst compactness', 'worst concavity', 'worst concave points',\n",
       "        'worst symmetry', 'worst fractal dimension'], dtype='<U23'),\n",
       " 'filename': 'C:\\\\Users\\\\user\\\\anaconda3\\\\lib\\\\site-packages\\\\sklearn\\\\datasets\\\\data\\\\breast_cancer.csv'}"
      ]
     },
     "metadata": {},
     "execution_count": 16
    }
   ],
   "source": [
    "from sklearn.datasets import load_breast_cancer\n",
    "d=load_breast_cancer()\n",
    "d"
   ]
  },
  {
   "cell_type": "code",
   "execution_count": 18,
   "metadata": {},
   "outputs": [
    {
     "output_type": "execute_result",
     "data": {
      "text/plain": [
       "     mean radius  mean texture  mean perimeter  mean area  mean smoothness  \\\n",
       "0          17.99         10.38          122.80     1001.0          0.11840   \n",
       "1          20.57         17.77          132.90     1326.0          0.08474   \n",
       "2          19.69         21.25          130.00     1203.0          0.10960   \n",
       "3          11.42         20.38           77.58      386.1          0.14250   \n",
       "4          20.29         14.34          135.10     1297.0          0.10030   \n",
       "..           ...           ...             ...        ...              ...   \n",
       "564        21.56         22.39          142.00     1479.0          0.11100   \n",
       "565        20.13         28.25          131.20     1261.0          0.09780   \n",
       "566        16.60         28.08          108.30      858.1          0.08455   \n",
       "567        20.60         29.33          140.10     1265.0          0.11780   \n",
       "568         7.76         24.54           47.92      181.0          0.05263   \n",
       "\n",
       "     mean compactness  mean concavity  mean concave points  mean symmetry  \\\n",
       "0             0.27760         0.30010              0.14710         0.2419   \n",
       "1             0.07864         0.08690              0.07017         0.1812   \n",
       "2             0.15990         0.19740              0.12790         0.2069   \n",
       "3             0.28390         0.24140              0.10520         0.2597   \n",
       "4             0.13280         0.19800              0.10430         0.1809   \n",
       "..                ...             ...                  ...            ...   \n",
       "564           0.11590         0.24390              0.13890         0.1726   \n",
       "565           0.10340         0.14400              0.09791         0.1752   \n",
       "566           0.10230         0.09251              0.05302         0.1590   \n",
       "567           0.27700         0.35140              0.15200         0.2397   \n",
       "568           0.04362         0.00000              0.00000         0.1587   \n",
       "\n",
       "     mean fractal dimension  ...  worst radius  worst texture  \\\n",
       "0                   0.07871  ...        25.380          17.33   \n",
       "1                   0.05667  ...        24.990          23.41   \n",
       "2                   0.05999  ...        23.570          25.53   \n",
       "3                   0.09744  ...        14.910          26.50   \n",
       "4                   0.05883  ...        22.540          16.67   \n",
       "..                      ...  ...           ...            ...   \n",
       "564                 0.05623  ...        25.450          26.40   \n",
       "565                 0.05533  ...        23.690          38.25   \n",
       "566                 0.05648  ...        18.980          34.12   \n",
       "567                 0.07016  ...        25.740          39.42   \n",
       "568                 0.05884  ...         9.456          30.37   \n",
       "\n",
       "     worst perimeter  worst area  worst smoothness  worst compactness  \\\n",
       "0             184.60      2019.0           0.16220            0.66560   \n",
       "1             158.80      1956.0           0.12380            0.18660   \n",
       "2             152.50      1709.0           0.14440            0.42450   \n",
       "3              98.87       567.7           0.20980            0.86630   \n",
       "4             152.20      1575.0           0.13740            0.20500   \n",
       "..               ...         ...               ...                ...   \n",
       "564           166.10      2027.0           0.14100            0.21130   \n",
       "565           155.00      1731.0           0.11660            0.19220   \n",
       "566           126.70      1124.0           0.11390            0.30940   \n",
       "567           184.60      1821.0           0.16500            0.86810   \n",
       "568            59.16       268.6           0.08996            0.06444   \n",
       "\n",
       "     worst concavity  worst concave points  worst symmetry  \\\n",
       "0             0.7119                0.2654          0.4601   \n",
       "1             0.2416                0.1860          0.2750   \n",
       "2             0.4504                0.2430          0.3613   \n",
       "3             0.6869                0.2575          0.6638   \n",
       "4             0.4000                0.1625          0.2364   \n",
       "..               ...                   ...             ...   \n",
       "564           0.4107                0.2216          0.2060   \n",
       "565           0.3215                0.1628          0.2572   \n",
       "566           0.3403                0.1418          0.2218   \n",
       "567           0.9387                0.2650          0.4087   \n",
       "568           0.0000                0.0000          0.2871   \n",
       "\n",
       "     worst fractal dimension  \n",
       "0                    0.11890  \n",
       "1                    0.08902  \n",
       "2                    0.08758  \n",
       "3                    0.17300  \n",
       "4                    0.07678  \n",
       "..                       ...  \n",
       "564                  0.07115  \n",
       "565                  0.06637  \n",
       "566                  0.07820  \n",
       "567                  0.12400  \n",
       "568                  0.07039  \n",
       "\n",
       "[569 rows x 30 columns]"
      ],
      "text/html": "<div>\n<style scoped>\n    .dataframe tbody tr th:only-of-type {\n        vertical-align: middle;\n    }\n\n    .dataframe tbody tr th {\n        vertical-align: top;\n    }\n\n    .dataframe thead th {\n        text-align: right;\n    }\n</style>\n<table border=\"1\" class=\"dataframe\">\n  <thead>\n    <tr style=\"text-align: right;\">\n      <th></th>\n      <th>mean radius</th>\n      <th>mean texture</th>\n      <th>mean perimeter</th>\n      <th>mean area</th>\n      <th>mean smoothness</th>\n      <th>mean compactness</th>\n      <th>mean concavity</th>\n      <th>mean concave points</th>\n      <th>mean symmetry</th>\n      <th>mean fractal dimension</th>\n      <th>...</th>\n      <th>worst radius</th>\n      <th>worst texture</th>\n      <th>worst perimeter</th>\n      <th>worst area</th>\n      <th>worst smoothness</th>\n      <th>worst compactness</th>\n      <th>worst concavity</th>\n      <th>worst concave points</th>\n      <th>worst symmetry</th>\n      <th>worst fractal dimension</th>\n    </tr>\n  </thead>\n  <tbody>\n    <tr>\n      <th>0</th>\n      <td>17.99</td>\n      <td>10.38</td>\n      <td>122.80</td>\n      <td>1001.0</td>\n      <td>0.11840</td>\n      <td>0.27760</td>\n      <td>0.30010</td>\n      <td>0.14710</td>\n      <td>0.2419</td>\n      <td>0.07871</td>\n      <td>...</td>\n      <td>25.380</td>\n      <td>17.33</td>\n      <td>184.60</td>\n      <td>2019.0</td>\n      <td>0.16220</td>\n      <td>0.66560</td>\n      <td>0.7119</td>\n      <td>0.2654</td>\n      <td>0.4601</td>\n      <td>0.11890</td>\n    </tr>\n    <tr>\n      <th>1</th>\n      <td>20.57</td>\n      <td>17.77</td>\n      <td>132.90</td>\n      <td>1326.0</td>\n      <td>0.08474</td>\n      <td>0.07864</td>\n      <td>0.08690</td>\n      <td>0.07017</td>\n      <td>0.1812</td>\n      <td>0.05667</td>\n      <td>...</td>\n      <td>24.990</td>\n      <td>23.41</td>\n      <td>158.80</td>\n      <td>1956.0</td>\n      <td>0.12380</td>\n      <td>0.18660</td>\n      <td>0.2416</td>\n      <td>0.1860</td>\n      <td>0.2750</td>\n      <td>0.08902</td>\n    </tr>\n    <tr>\n      <th>2</th>\n      <td>19.69</td>\n      <td>21.25</td>\n      <td>130.00</td>\n      <td>1203.0</td>\n      <td>0.10960</td>\n      <td>0.15990</td>\n      <td>0.19740</td>\n      <td>0.12790</td>\n      <td>0.2069</td>\n      <td>0.05999</td>\n      <td>...</td>\n      <td>23.570</td>\n      <td>25.53</td>\n      <td>152.50</td>\n      <td>1709.0</td>\n      <td>0.14440</td>\n      <td>0.42450</td>\n      <td>0.4504</td>\n      <td>0.2430</td>\n      <td>0.3613</td>\n      <td>0.08758</td>\n    </tr>\n    <tr>\n      <th>3</th>\n      <td>11.42</td>\n      <td>20.38</td>\n      <td>77.58</td>\n      <td>386.1</td>\n      <td>0.14250</td>\n      <td>0.28390</td>\n      <td>0.24140</td>\n      <td>0.10520</td>\n      <td>0.2597</td>\n      <td>0.09744</td>\n      <td>...</td>\n      <td>14.910</td>\n      <td>26.50</td>\n      <td>98.87</td>\n      <td>567.7</td>\n      <td>0.20980</td>\n      <td>0.86630</td>\n      <td>0.6869</td>\n      <td>0.2575</td>\n      <td>0.6638</td>\n      <td>0.17300</td>\n    </tr>\n    <tr>\n      <th>4</th>\n      <td>20.29</td>\n      <td>14.34</td>\n      <td>135.10</td>\n      <td>1297.0</td>\n      <td>0.10030</td>\n      <td>0.13280</td>\n      <td>0.19800</td>\n      <td>0.10430</td>\n      <td>0.1809</td>\n      <td>0.05883</td>\n      <td>...</td>\n      <td>22.540</td>\n      <td>16.67</td>\n      <td>152.20</td>\n      <td>1575.0</td>\n      <td>0.13740</td>\n      <td>0.20500</td>\n      <td>0.4000</td>\n      <td>0.1625</td>\n      <td>0.2364</td>\n      <td>0.07678</td>\n    </tr>\n    <tr>\n      <th>...</th>\n      <td>...</td>\n      <td>...</td>\n      <td>...</td>\n      <td>...</td>\n      <td>...</td>\n      <td>...</td>\n      <td>...</td>\n      <td>...</td>\n      <td>...</td>\n      <td>...</td>\n      <td>...</td>\n      <td>...</td>\n      <td>...</td>\n      <td>...</td>\n      <td>...</td>\n      <td>...</td>\n      <td>...</td>\n      <td>...</td>\n      <td>...</td>\n      <td>...</td>\n      <td>...</td>\n    </tr>\n    <tr>\n      <th>564</th>\n      <td>21.56</td>\n      <td>22.39</td>\n      <td>142.00</td>\n      <td>1479.0</td>\n      <td>0.11100</td>\n      <td>0.11590</td>\n      <td>0.24390</td>\n      <td>0.13890</td>\n      <td>0.1726</td>\n      <td>0.05623</td>\n      <td>...</td>\n      <td>25.450</td>\n      <td>26.40</td>\n      <td>166.10</td>\n      <td>2027.0</td>\n      <td>0.14100</td>\n      <td>0.21130</td>\n      <td>0.4107</td>\n      <td>0.2216</td>\n      <td>0.2060</td>\n      <td>0.07115</td>\n    </tr>\n    <tr>\n      <th>565</th>\n      <td>20.13</td>\n      <td>28.25</td>\n      <td>131.20</td>\n      <td>1261.0</td>\n      <td>0.09780</td>\n      <td>0.10340</td>\n      <td>0.14400</td>\n      <td>0.09791</td>\n      <td>0.1752</td>\n      <td>0.05533</td>\n      <td>...</td>\n      <td>23.690</td>\n      <td>38.25</td>\n      <td>155.00</td>\n      <td>1731.0</td>\n      <td>0.11660</td>\n      <td>0.19220</td>\n      <td>0.3215</td>\n      <td>0.1628</td>\n      <td>0.2572</td>\n      <td>0.06637</td>\n    </tr>\n    <tr>\n      <th>566</th>\n      <td>16.60</td>\n      <td>28.08</td>\n      <td>108.30</td>\n      <td>858.1</td>\n      <td>0.08455</td>\n      <td>0.10230</td>\n      <td>0.09251</td>\n      <td>0.05302</td>\n      <td>0.1590</td>\n      <td>0.05648</td>\n      <td>...</td>\n      <td>18.980</td>\n      <td>34.12</td>\n      <td>126.70</td>\n      <td>1124.0</td>\n      <td>0.11390</td>\n      <td>0.30940</td>\n      <td>0.3403</td>\n      <td>0.1418</td>\n      <td>0.2218</td>\n      <td>0.07820</td>\n    </tr>\n    <tr>\n      <th>567</th>\n      <td>20.60</td>\n      <td>29.33</td>\n      <td>140.10</td>\n      <td>1265.0</td>\n      <td>0.11780</td>\n      <td>0.27700</td>\n      <td>0.35140</td>\n      <td>0.15200</td>\n      <td>0.2397</td>\n      <td>0.07016</td>\n      <td>...</td>\n      <td>25.740</td>\n      <td>39.42</td>\n      <td>184.60</td>\n      <td>1821.0</td>\n      <td>0.16500</td>\n      <td>0.86810</td>\n      <td>0.9387</td>\n      <td>0.2650</td>\n      <td>0.4087</td>\n      <td>0.12400</td>\n    </tr>\n    <tr>\n      <th>568</th>\n      <td>7.76</td>\n      <td>24.54</td>\n      <td>47.92</td>\n      <td>181.0</td>\n      <td>0.05263</td>\n      <td>0.04362</td>\n      <td>0.00000</td>\n      <td>0.00000</td>\n      <td>0.1587</td>\n      <td>0.05884</td>\n      <td>...</td>\n      <td>9.456</td>\n      <td>30.37</td>\n      <td>59.16</td>\n      <td>268.6</td>\n      <td>0.08996</td>\n      <td>0.06444</td>\n      <td>0.0000</td>\n      <td>0.0000</td>\n      <td>0.2871</td>\n      <td>0.07039</td>\n    </tr>\n  </tbody>\n</table>\n<p>569 rows × 30 columns</p>\n</div>"
     },
     "metadata": {},
     "execution_count": 18
    }
   ],
   "source": [
    "pd.DataFrame(data=d['data'],columns=d['feature_names'])"
   ]
  },
  {
   "cell_type": "code",
   "execution_count": 42,
   "metadata": {},
   "outputs": [
    {
     "output_type": "execute_result",
     "data": {
      "text/plain": [
       "   ind  aus  can  uk  sri\n",
       "a    2    3    4   2    2\n",
       "b    4    2    3   4    0\n",
       "c    1    1    4   0    2\n",
       "d    2    1    0   3    4\n",
       "e    2    4    4   4    3"
      ],
      "text/html": "<div>\n<style scoped>\n    .dataframe tbody tr th:only-of-type {\n        vertical-align: middle;\n    }\n\n    .dataframe tbody tr th {\n        vertical-align: top;\n    }\n\n    .dataframe thead th {\n        text-align: right;\n    }\n</style>\n<table border=\"1\" class=\"dataframe\">\n  <thead>\n    <tr style=\"text-align: right;\">\n      <th></th>\n      <th>ind</th>\n      <th>aus</th>\n      <th>can</th>\n      <th>uk</th>\n      <th>sri</th>\n    </tr>\n  </thead>\n  <tbody>\n    <tr>\n      <th>a</th>\n      <td>2</td>\n      <td>3</td>\n      <td>4</td>\n      <td>2</td>\n      <td>2</td>\n    </tr>\n    <tr>\n      <th>b</th>\n      <td>4</td>\n      <td>2</td>\n      <td>3</td>\n      <td>4</td>\n      <td>0</td>\n    </tr>\n    <tr>\n      <th>c</th>\n      <td>1</td>\n      <td>1</td>\n      <td>4</td>\n      <td>0</td>\n      <td>2</td>\n    </tr>\n    <tr>\n      <th>d</th>\n      <td>2</td>\n      <td>1</td>\n      <td>0</td>\n      <td>3</td>\n      <td>4</td>\n    </tr>\n    <tr>\n      <th>e</th>\n      <td>2</td>\n      <td>4</td>\n      <td>4</td>\n      <td>4</td>\n      <td>3</td>\n    </tr>\n  </tbody>\n</table>\n</div>"
     },
     "metadata": {},
     "execution_count": 42
    }
   ],
   "source": [
    "df"
   ]
  },
  {
   "cell_type": "code",
   "execution_count": 47,
   "metadata": {},
   "outputs": [
    {
     "output_type": "execute_result",
     "data": {
      "text/plain": [
       "1"
      ]
     },
     "metadata": {},
     "execution_count": 47
    }
   ],
   "source": [
    "# Indexing and slicing \n",
    "df.iloc[:,1]\n",
    "df.iloc[2]\n",
    "df.iloc[:,[1]]\n",
    "df.iloc[2:4,1:3]\n",
    "df.iloc[2,1]"
   ]
  },
  {
   "cell_type": "code",
   "execution_count": 48,
   "metadata": {},
   "outputs": [
    {
     "output_type": "execute_result",
     "data": {
      "text/plain": [
       "   ind  can\n",
       "a    2    4\n",
       "d    2    0"
      ],
      "text/html": "<div>\n<style scoped>\n    .dataframe tbody tr th:only-of-type {\n        vertical-align: middle;\n    }\n\n    .dataframe tbody tr th {\n        vertical-align: top;\n    }\n\n    .dataframe thead th {\n        text-align: right;\n    }\n</style>\n<table border=\"1\" class=\"dataframe\">\n  <thead>\n    <tr style=\"text-align: right;\">\n      <th></th>\n      <th>ind</th>\n      <th>can</th>\n    </tr>\n  </thead>\n  <tbody>\n    <tr>\n      <th>a</th>\n      <td>2</td>\n      <td>4</td>\n    </tr>\n    <tr>\n      <th>d</th>\n      <td>2</td>\n      <td>0</td>\n    </tr>\n  </tbody>\n</table>\n</div>"
     },
     "metadata": {},
     "execution_count": 48
    }
   ],
   "source": [
    "df.loc[['a','d'],['ind','can']]"
   ]
  },
  {
   "cell_type": "code",
   "execution_count": 49,
   "metadata": {},
   "outputs": [
    {
     "output_type": "execute_result",
     "data": {
      "text/plain": [
       "   ind  aus  can  uk  sri\n",
       "a    2    3    4   2    2\n",
       "b    4    2    3   4    0\n",
       "c    1    1    4   0    2\n",
       "d    2    1    0   3    4\n",
       "e    2    4    4   4    3"
      ],
      "text/html": "<div>\n<style scoped>\n    .dataframe tbody tr th:only-of-type {\n        vertical-align: middle;\n    }\n\n    .dataframe tbody tr th {\n        vertical-align: top;\n    }\n\n    .dataframe thead th {\n        text-align: right;\n    }\n</style>\n<table border=\"1\" class=\"dataframe\">\n  <thead>\n    <tr style=\"text-align: right;\">\n      <th></th>\n      <th>ind</th>\n      <th>aus</th>\n      <th>can</th>\n      <th>uk</th>\n      <th>sri</th>\n    </tr>\n  </thead>\n  <tbody>\n    <tr>\n      <th>a</th>\n      <td>2</td>\n      <td>3</td>\n      <td>4</td>\n      <td>2</td>\n      <td>2</td>\n    </tr>\n    <tr>\n      <th>b</th>\n      <td>4</td>\n      <td>2</td>\n      <td>3</td>\n      <td>4</td>\n      <td>0</td>\n    </tr>\n    <tr>\n      <th>c</th>\n      <td>1</td>\n      <td>1</td>\n      <td>4</td>\n      <td>0</td>\n      <td>2</td>\n    </tr>\n    <tr>\n      <th>d</th>\n      <td>2</td>\n      <td>1</td>\n      <td>0</td>\n      <td>3</td>\n      <td>4</td>\n    </tr>\n    <tr>\n      <th>e</th>\n      <td>2</td>\n      <td>4</td>\n      <td>4</td>\n      <td>4</td>\n      <td>3</td>\n    </tr>\n  </tbody>\n</table>\n</div>"
     },
     "metadata": {},
     "execution_count": 49
    }
   ],
   "source": [
    "df"
   ]
  },
  {
   "cell_type": "code",
   "execution_count": 50,
   "metadata": {},
   "outputs": [
    {
     "output_type": "execute_result",
     "data": {
      "text/plain": [
       "a    2\n",
       "b    4\n",
       "c    1\n",
       "d    2\n",
       "e    2\n",
       "Name: ind, dtype: int32"
      ]
     },
     "metadata": {},
     "execution_count": 50
    }
   ],
   "source": [
    "df.ind\n"
   ]
  },
  {
   "cell_type": "code",
   "execution_count": 54,
   "metadata": {},
   "outputs": [
    {
     "output_type": "execute_result",
     "data": {
      "text/plain": [
       "   ind  can\n",
       "a    2    4\n",
       "b    4    3\n",
       "c    1    4\n",
       "d    2    0\n",
       "e    2    4"
      ],
      "text/html": "<div>\n<style scoped>\n    .dataframe tbody tr th:only-of-type {\n        vertical-align: middle;\n    }\n\n    .dataframe tbody tr th {\n        vertical-align: top;\n    }\n\n    .dataframe thead th {\n        text-align: right;\n    }\n</style>\n<table border=\"1\" class=\"dataframe\">\n  <thead>\n    <tr style=\"text-align: right;\">\n      <th></th>\n      <th>ind</th>\n      <th>can</th>\n    </tr>\n  </thead>\n  <tbody>\n    <tr>\n      <th>a</th>\n      <td>2</td>\n      <td>4</td>\n    </tr>\n    <tr>\n      <th>b</th>\n      <td>4</td>\n      <td>3</td>\n    </tr>\n    <tr>\n      <th>c</th>\n      <td>1</td>\n      <td>4</td>\n    </tr>\n    <tr>\n      <th>d</th>\n      <td>2</td>\n      <td>0</td>\n    </tr>\n    <tr>\n      <th>e</th>\n      <td>2</td>\n      <td>4</td>\n    </tr>\n  </tbody>\n</table>\n</div>"
     },
     "metadata": {},
     "execution_count": 54
    }
   ],
   "source": [
    "df[['ind','can']]"
   ]
  },
  {
   "cell_type": "code",
   "execution_count": 58,
   "metadata": {},
   "outputs": [
    {
     "output_type": "stream",
     "name": "stdout",
     "text": [
      "   calories  duration\n0       420        50\n1       380        40\n2       390        45\ncalories    420\nduration     50\nName: 0, dtype: int64\n   calories  duration\n0       420        50\n1       380        40\n"
     ]
    }
   ],
   "source": [
    "import pandas as pd\n",
    "\n",
    "data = {\n",
    "  \"calories\": [420, 380, 390],\n",
    "  \"duration\": [50, 40, 45]\n",
    "}\n",
    "\n",
    "#load data into a DataFrame object:\n",
    "df = pd.DataFrame(data)\n",
    "\n",
    "print(df)\n",
    "print(df.loc[0])    \n",
    "print(df.loc[[0, 1]])"
   ]
  },
  {
   "cell_type": "code",
   "execution_count": 2,
   "metadata": {},
   "outputs": [
    {
     "output_type": "execute_result",
     "data": {
      "text/plain": [
       "   ind  aus  can  uk  sri\n",
       "a    1    3    3   2    1\n",
       "b    1    4    1   3    1\n",
       "c    2    2    1   4    0\n",
       "d    3    0    4   3    3\n",
       "e    3    0    2   0    3"
      ],
      "text/html": "<div>\n<style scoped>\n    .dataframe tbody tr th:only-of-type {\n        vertical-align: middle;\n    }\n\n    .dataframe tbody tr th {\n        vertical-align: top;\n    }\n\n    .dataframe thead th {\n        text-align: right;\n    }\n</style>\n<table border=\"1\" class=\"dataframe\">\n  <thead>\n    <tr style=\"text-align: right;\">\n      <th></th>\n      <th>ind</th>\n      <th>aus</th>\n      <th>can</th>\n      <th>uk</th>\n      <th>sri</th>\n    </tr>\n  </thead>\n  <tbody>\n    <tr>\n      <th>a</th>\n      <td>1</td>\n      <td>3</td>\n      <td>3</td>\n      <td>2</td>\n      <td>1</td>\n    </tr>\n    <tr>\n      <th>b</th>\n      <td>1</td>\n      <td>4</td>\n      <td>1</td>\n      <td>3</td>\n      <td>1</td>\n    </tr>\n    <tr>\n      <th>c</th>\n      <td>2</td>\n      <td>2</td>\n      <td>1</td>\n      <td>4</td>\n      <td>0</td>\n    </tr>\n    <tr>\n      <th>d</th>\n      <td>3</td>\n      <td>0</td>\n      <td>4</td>\n      <td>3</td>\n      <td>3</td>\n    </tr>\n    <tr>\n      <th>e</th>\n      <td>3</td>\n      <td>0</td>\n      <td>2</td>\n      <td>0</td>\n      <td>3</td>\n    </tr>\n  </tbody>\n</table>\n</div>"
     },
     "metadata": {},
     "execution_count": 2
    }
   ],
   "source": [
    "import numpy as np\n",
    "import pandas as pd\n",
    "d3=np.random.randint(5,size=(5,5))\n",
    "df=pd.DataFrame(data=d3,index=['a','b','c','d','e'], columns=['ind','aus','can','uk','sri'])\n",
    "df"
   ]
  },
  {
   "cell_type": "code",
   "execution_count": 25,
   "metadata": {},
   "outputs": [
    {
     "output_type": "execute_result",
     "data": {
      "text/plain": [
       "   aus  can  ind  sri  uk\n",
       "a    3    3    1    1   2\n",
       "b    4    1    1    1   3\n",
       "c    2    1    2    0   4\n",
       "d    0    4    3    3   3\n",
       "e    0    2    3    3   0"
      ],
      "text/html": "<div>\n<style scoped>\n    .dataframe tbody tr th:only-of-type {\n        vertical-align: middle;\n    }\n\n    .dataframe tbody tr th {\n        vertical-align: top;\n    }\n\n    .dataframe thead th {\n        text-align: right;\n    }\n</style>\n<table border=\"1\" class=\"dataframe\">\n  <thead>\n    <tr style=\"text-align: right;\">\n      <th></th>\n      <th>aus</th>\n      <th>can</th>\n      <th>ind</th>\n      <th>sri</th>\n      <th>uk</th>\n    </tr>\n  </thead>\n  <tbody>\n    <tr>\n      <th>a</th>\n      <td>3</td>\n      <td>3</td>\n      <td>1</td>\n      <td>1</td>\n      <td>2</td>\n    </tr>\n    <tr>\n      <th>b</th>\n      <td>4</td>\n      <td>1</td>\n      <td>1</td>\n      <td>1</td>\n      <td>3</td>\n    </tr>\n    <tr>\n      <th>c</th>\n      <td>2</td>\n      <td>1</td>\n      <td>2</td>\n      <td>0</td>\n      <td>4</td>\n    </tr>\n    <tr>\n      <th>d</th>\n      <td>0</td>\n      <td>4</td>\n      <td>3</td>\n      <td>3</td>\n      <td>3</td>\n    </tr>\n    <tr>\n      <th>e</th>\n      <td>0</td>\n      <td>2</td>\n      <td>3</td>\n      <td>3</td>\n      <td>0</td>\n    </tr>\n  </tbody>\n</table>\n</div>"
     },
     "metadata": {},
     "execution_count": 25
    }
   ],
   "source": [
    "df.sort_index(axis=1) # Sorting with the Name of the column"
   ]
  },
  {
   "cell_type": "code",
   "execution_count": 26,
   "metadata": {},
   "outputs": [
    {
     "output_type": "execute_result",
     "data": {
      "text/plain": [
       "   ind  sri  uk  aus  can\n",
       "a    1    1   2    3    3\n",
       "b    1    1   3    4    1\n",
       "c    2    0   4    2    1\n",
       "d    3    3   3    0    4\n",
       "e    3    3   0    0    2"
      ],
      "text/html": "<div>\n<style scoped>\n    .dataframe tbody tr th:only-of-type {\n        vertical-align: middle;\n    }\n\n    .dataframe tbody tr th {\n        vertical-align: top;\n    }\n\n    .dataframe thead th {\n        text-align: right;\n    }\n</style>\n<table border=\"1\" class=\"dataframe\">\n  <thead>\n    <tr style=\"text-align: right;\">\n      <th></th>\n      <th>ind</th>\n      <th>sri</th>\n      <th>uk</th>\n      <th>aus</th>\n      <th>can</th>\n    </tr>\n  </thead>\n  <tbody>\n    <tr>\n      <th>a</th>\n      <td>1</td>\n      <td>1</td>\n      <td>2</td>\n      <td>3</td>\n      <td>3</td>\n    </tr>\n    <tr>\n      <th>b</th>\n      <td>1</td>\n      <td>1</td>\n      <td>3</td>\n      <td>4</td>\n      <td>1</td>\n    </tr>\n    <tr>\n      <th>c</th>\n      <td>2</td>\n      <td>0</td>\n      <td>4</td>\n      <td>2</td>\n      <td>1</td>\n    </tr>\n    <tr>\n      <th>d</th>\n      <td>3</td>\n      <td>3</td>\n      <td>3</td>\n      <td>0</td>\n      <td>4</td>\n    </tr>\n    <tr>\n      <th>e</th>\n      <td>3</td>\n      <td>3</td>\n      <td>0</td>\n      <td>0</td>\n      <td>2</td>\n    </tr>\n  </tbody>\n</table>\n</div>"
     },
     "metadata": {},
     "execution_count": 26
    }
   ],
   "source": [
    "df.sort_values(by=\"a\",axis=1,ascending=True) # Sorting with value of the column or rows"
   ]
  },
  {
   "cell_type": "code",
   "execution_count": 33,
   "metadata": {},
   "outputs": [
    {
     "output_type": "execute_result",
     "data": {
      "text/plain": [
       "   ind  aus  can  uk  sri\n",
       "b    1    4    1   3    1\n",
       "c    2    2    1   4    0\n",
       "d    3    0    4   3    3\n",
       "e    3    0    2   0    3"
      ],
      "text/html": "<div>\n<style scoped>\n    .dataframe tbody tr th:only-of-type {\n        vertical-align: middle;\n    }\n\n    .dataframe tbody tr th {\n        vertical-align: top;\n    }\n\n    .dataframe thead th {\n        text-align: right;\n    }\n</style>\n<table border=\"1\" class=\"dataframe\">\n  <thead>\n    <tr style=\"text-align: right;\">\n      <th></th>\n      <th>ind</th>\n      <th>aus</th>\n      <th>can</th>\n      <th>uk</th>\n      <th>sri</th>\n    </tr>\n  </thead>\n  <tbody>\n    <tr>\n      <th>b</th>\n      <td>1</td>\n      <td>4</td>\n      <td>1</td>\n      <td>3</td>\n      <td>1</td>\n    </tr>\n    <tr>\n      <th>c</th>\n      <td>2</td>\n      <td>2</td>\n      <td>1</td>\n      <td>4</td>\n      <td>0</td>\n    </tr>\n    <tr>\n      <th>d</th>\n      <td>3</td>\n      <td>0</td>\n      <td>4</td>\n      <td>3</td>\n      <td>3</td>\n    </tr>\n    <tr>\n      <th>e</th>\n      <td>3</td>\n      <td>0</td>\n      <td>2</td>\n      <td>0</td>\n      <td>3</td>\n    </tr>\n  </tbody>\n</table>\n</div>"
     },
     "metadata": {},
     "execution_count": 33
    }
   ],
   "source": [
    "df2=df.drop('ind',axis=1) # To delete column\n",
    "df2=df.drop(index=['a']) # To delete row\n",
    "df2"
   ]
  },
  {
   "cell_type": "code",
   "execution_count": 38,
   "metadata": {
    "tags": [
     "outputPrepend"
    ]
   },
   "outputs": [
    {
     "output_type": "stream",
     "name": "stdout",
     "text": [
      "e  229148  Senior Secondary          18        Married             Transportion    Male              40   42132.450000\n186   58  Self Employed  154537           Masters          29        Married        Executive Manager  Female              20   63874.107500\n187   50        Private  181901            Others          28        Married                   Others    Male              20  459450.000000\n188   18        Private  152004  Senior Secondary           0      Unmarried                   Others    Male              20    5833.340000\n189   27        Private  205188      High School            6        Married         Machine Operator    Male              40    9120.830000\n190   24        Private   66634         Bachelors           2        Married      Frontend Developer     Male              16   32331.200000\n191   38  Self Employed  180220            Others           9        Married                Craftsmen    Male              60   65000.000000\n192   40  Self Employed   99651            Others          12        Married                Professor    Male              60   71435.200000\n193   41        Private  327723           Masters           9       Divorced        Executive Manager    Male              40  215621.000000\n194   32        Private  127384           Masters           7        Married  Machine Learning Expert    Male              55   55000.000000\n195   30        Private  363296            Others           6      Unmarried      Frontend Developer     Male              72   40036.430000\n196   28        Private   30070         Bachelors           4        Married                    Sales    Male              50   32102.750000\n197   31     Government  595000         Bachelors           3        Married                   Others  Female              35   51000.000000\n198   21        Private  152328            Others           0      Unmarried      Frontend Developer     Male              20   17999.990000\n199   33     Government  177824           Masters           4       Divorced                   Others  Female              40  117217.240000\n200   44     Government  111483           Masters          14        Married                Professor    Male              40  257396.060000\n201   22        Private  199555         Bachelors           1      Unmarried     Full Stack Developer    Male              25   22466.625000\n202   42        Private   50018            Others          14        Married                   Others    Male              40   43337.820000\n203   36        Private  218490         Bachelors          12        Married                Craftsmen    Male              35   72447.270000\n204   31        Private  159187           Masters           9       Divorced             Transportion    Male              40   40064.760000\n205   21        Private   83033            Others           0      Unmarried                   Others  Female              25   13125.000000\n206   34  Self Employed   24961           Masters           9        Married        Backend Developer    Male              80   66250.010000\n207   21        Private  182117            Others           0      Unmarried        Backend Developer    Male              15   23444.000000\n208   55  Self Employed  146576         Bachelors          15        Widowed                   Others    Male              48   72746.500000\n209   29        Private  176690           Masters           5        Married     Full Stack Developer    Male              24   74166.670000\n210   26        Private  122651            Others           4        Married                    Sales    Male              15   35000.010000\n211   54  Self Employed  149650         Bachelors           9       Divorced                   Others    Male              40   74291.670000\n212   34        Private  454508         Doctorate          11        Married                Professor    Male              65  171082.990000\n213   41        Private  266530            Others           9        Married                   Others    Male              45   36249.990000\n214   23        Private  198542         Bachelors           1      Unmarried      FrontEnd Developer   Female              40   27872.750000\n215   24        Private  217961           Masters           0      Unmarried         Machine Operator    Male              40   34514.260000\n216   21        Private  221661            Others           1      Unmarried                    Clerk  Female              40   10573.420000\n217   44     Government   60735         Bachelors          13       Divorced                   Others  Female              60  122615.350000\n218   47  Self Employed  121124         Bachelors          13        Married                    Sales    Male              40   61443.510000\n219   31        Private   48588            Others          10        Married                Craftsmen    Male              40   49635.000000\n220   53  Self Employed  240138         Bachelors           9        Married                Craftsmen    Male              60   50842.500000\n221   44        Private  104196           Masters          14        Married     Full Stack Developer    Male              45  151500.010000\n222   37        Private  230035         Doctorate           9        Married                   Others    Male              46  122250.000000\n223   28        Private   38918            Others           7        Married                Craftsmen    Male              50   38811.250000\n224   25     Government  205011           Masters           0      Unmarried      Frontend Developer     Male              10   71000.010000\n225   25  Self Employed   77053         Bachelors           3        Married                  Others   Female              40   25000.000000\n226   28        Private  132870         Bachelors           4        Married        Executive Manager  Female              18   42000.000000\n227   26        Private  186061           Masters           3      Unmarried                  Others   Female              40   27000.000000\n228   32        Private  140359         Bachelors           7       Divorced         Machine Operator  Female              40   22000.000000\n229   37        Private  264663           Masters          10       Divorced                Professor  Female              40   90000.000000\n230   34        Private  216864         Bachelors           9       Divorced                  Others   Female              45   78000.000000\n231   28        Private  150601         Bachelors           6      Separated           Administration    Male              40   33000.000000\n232   45     Government   88638         Doctorate          14      Unmarried                Professor  Female              20  190000.000000\n233   35     Government  422013         Bachelors           9       Divorced                Professor  Female              40  112200.000000\n234   29        Private   70037           Masters          10      Unmarried                Craftsman    Male              60   11220.000000\n235   45        Private  172274         Doctorate          16       Divorced                Professor  Female              35  110662.660000\n236   38  Self Employed  164526         Professor          15  Never-married                Professor    Male              45  108447.100000\n237   52        Private  129177         Bachelors          13        Widowed                  Others   Female              20  103019.000000\n238   32        Private  136204           Masters          14      Separated        Executive Manager    Male              55  100980.010000\n239   46  Self Employed  172175         Doctorate          16      Unmarried                  Others     Male              40   35044.000000\n240   46        Private   45363           Masters          15       Divorced       Frontend Developer    Male              40   45614.000000\n241   45        Private  172822         Bachelors          14       Divorced           Transportation    Male              76   27541.500000\n242   57        Private  317847           Masters          14       Divorced        Executive Manager    Male              50   96900.000000\n243   22        Private  119592         Bachelors           1      Unmarried        Backend Developer    Male              40   25285.590000\n244   34        Private  203034         Bachelors          13        Married                    Sales    Male              50   43430.460000\n245   37        Private  188774         Bachelors          13        Married        Executive Manager    Male              40   93916.970000\n246   29        Private   77009       High School           7      Unmarried                    Sales  Female              42   23000.000000\n247   32        Private   29059         Bachelors           9       Divorced                    Sales  Female              25   33699.260000\n248   51        Private  153870           Masters          10        Married     Full Stack Developer    Male              40   90879.980000\n249   56     Government  135285           Masters           9        Married                Professor    Male              32   89236.800000\n250   21        Private   34310    Administration           1      Unmarried     Full Stack Developer    Male              40   39236.800000\n251   33        Private  228696         Bachelors           8        Married        Backend Developer    Male              32   36236.800000\n252   49        Private  122066       High School          10        Married                  Others     Male              40   29236.800000\n253   37  Self Employed  107164  Senior Secondary           6       Divorced           Transportation    Male              50   32236.800000\n254   38        Private  175360         Bachelors          11      Unmarried                Professor    Male              90   86733.710000\n255   23        Private   44064           Masters          10      Separated     Full Stack Developer    Male              40   36700.020000\n256   59     Government  107287         Bachelors          18        Widowed           Administration  Female              50   86700.020000\n257   52        Private  198863         Doctorate          15       Divorced                Professor    Male              60   86541.040000\n258   45        Private  123011         Bachelors          13       Divorced        Executive Manager    Male              50   86351.160000\n259   51     Government  205246         Bachelors          15        Married           Administration    Male              50   86084.380000\n260   43     Government   39181         Doctorate          16       Divorced                Professor  Female              60   76067.150000\n261   31        Private  149650           Masters           9        Married                    Sales    Male              48   45886.860000\n262   51     Government  197163         Bachelors          15       Divorced        Executive Manager  Female              50   84150.000000\n263   37  Self Employed  137527           Masters          16        Married       Frontend Developer  Female              60   44100.890000\n264   48        Private  161691           Masters          14       Divorced  Machine Learning Expert  Female              40   84015.900000\n265   44        Private  326232         Bachelors          13       Divorced           Administration    Male              50   83606.810000\n266   43        Private  115806           Masters          14       Divorced        Backend Developer  Female              40   53196.980000\n267   32        Private  115066  Senior Secondary          10       Divorced                    Clerk  Female              40   33183.690000\n268   43        Private  289669           Masters          14       Divorced  Machine Learning Expert  Female              40   80113.560000\n269   34        Private  100820         Bachelors           9        Married  Machine Learning Expert    Male              15   68795.000000\n270   48        Private  121253         Bachelors          13        Married                    Sales  Female              70    5506.440000\n271   27        Private  110380         Bachelors           9        Married                    Sales    Male              52   28294.110000\n272   45  Self Employed  233882           Masters           9        Married        Backend Developer    Male              40   48020.360000\n273   68        Private  192052         Doctorate          10        Widowed                Professor  Female              40   77578.320000\n274   57     Government  174995           Masters          10        Married           Administration    Male              40   77518.960000\n275   40  Self Employed  335549           Masters          11      Unmarried  Machine Learning Expert    Male              45   76961.330000\n276   50        Private  237729  Senior Secondary           9        Widowed                  Others   Female              72   46504.000000\n277   51     Government   68898         Bachelors          11       Divorced        Technical Support    Male              39   75678.910000\n278   42        Private  107276           Masters          10        Married        Executive Manager  Female              40   54889.170000\n279   39        Private  141584           Masters          14        Married                    Sales    Male              45   44828.830000\n280   32        Private  207668         Bachelors          13      Unmarried        Backend Developer    Male              50   44769.200000\n281   39        Private  313243           Masters          10        Married                Craftsman    Male              45   34496.720000\n282   40     Government  147372         Bachelors          10        Married                    Clerk    Male              40   42606.330000\n283   38        Private  237608         Bachelors          13        Widowed                    Sales  Female              45   42430.840000\n284   33        Private  194901  Senior Secondary          11       Divorced                  Others     Male              42   31708.520000\n285   43        Private  155106  Senior Secondary          12       Divorced                Craftsman    Male              70   32666.250000\n286   25  Self Employed  121441         Bachelors           3      Unmarried     Full Stack Developer    Male              40   33634.890000\n287   44        Private  162028         Bachelors          10        Married                    Clerk  Female               6   29616.270000\n288   22        Private  160724         Bachelors           1      Unmarried                    Sales    Male              40   25409.580000\n289   41        Private  132222           Masters          15        Married                Professor    Male              40   51400.010000\n290   34  Self Employed  226355         Bachelors          11        Married        Backend Developer    Male              70   41400.010000\n291   37        Private  329980           Masters          14       Divorced                Professor    Male              60   71400.010000\n292   25  Self Employed  124137         Bachelors           2        Married       Frontend Developer    Male              35   30396.580000\n293   39  Self Employed  329980         Bachelors          13        Married                    Sales    Male              60   40146.480000\n294   42        Private  187702           Masters          10        Married                Professor    Male              60   69959.680000\n295   21        Private  199029         Bachelors           0      Unmarried                    Sales    Male              55   21794.540000\n296   28  Self Employed  145290         Bachelors           4        Married        Executive Manager    Male              50   39709.560000\n297   41     Government  297248         Doctorate          10        Married                Professor    Male              45   69643.410000\n298   23        Private  227856         Bachelors           1      Unmarried     Full Stack Developer    Male              50   33000.000000\n299   49        Private  179731           Masters          14        Married           Administration  Female              65   69375.550000\n300   42        Private  154374         Bachelors          13        Married        Executive Manager    Male              60   69359.990000\n301   41        Private   27187           Masters          11        Married  Machine Learning Expert    Male              12   59155.240000\n302   46        Private  326857           Masters          14        Married                    Sales    Male              65   39097.540000\n303   40        Private  160369           Masters          14        Married        Executive Manager    Male              45   38799.020000\n304   32        Private  396745         Bachelors          13      Unmarried       Frontend Developer    Male              48   38559.480000\n305   41        Private  151089           Masters          10        Married         Machine Operator    Male              55   38059.100000\n306   24        Private  336188         Bachelors           1      Unmarried        Backend Developer    Male              80   33000.000000\n307   31        Private  279015           Masters           7      Unmarried        Backend Developer    Male              70   37388.110000\n308   27        Private   43221         Bachelors           4        Married                  Others     Male              40   27228.200000\n309   37  Self Employed   30529           Masters          13        Married  Machine Learning Expert    Male              50   46995.800000\n310   44        Private  201742         Bachelors          13        Married        Executive Manager    Male              50   46681.430000\n311   39  Self Employed  218490         Bachelors          15        Married                Professor    Male              50   50448.690000\n312   43     Government  156996         Bachelors          15        Married                    Clerk    Male              55   46406.480000\n313   21        Private  298449         Bachelors           0      Unmarried        Executive Manager    Male              50   36318.800000\n314   44  Self Employed  191712           Masters          14        Married  Machine Learning Expert    Male              55   66317.720000\n315   39        Private  198654  Senior Secondary          15        Married                Craftsman    Male              67   46300.000000\n316   46  Self Employed  102308         Bachelors          13        Married                    Sales    Male              40   45114.630000\n317   39        Private  348521         Bachelors          10        Married                  Others     Male              99   45976.370000\n318   26        Private   56248         Bachelors           3        Married        Backend Developer    Male              60   35920.800000\n319   31        Private  252752       High School           9        Married                  Others   Female              40   25901.300000\n320   46        Private  192963         Bachelors          13        Married           Administration    Male              35   65858.420000\n321   46  Self Employed  198759           Masters          15        Married                Professor    Male              80   45751.400000\n322   39        Private  143123           Masters          11        Married  Machine Learning Expert    Male              40   65418.140000\n323   39        Private  237713         Bachelors          15        Married                    Sales    Male              99   64803.900000\n324   59        Private   81929         Doctorate          16        Widowed                Professor    Male              45   64739.220000\n325   50  Self Employed  167793           Masters          15        Married  Machine Learning Expert    Male              60   62120.000000\n326   46        Private  456062         Doctorate          16        Married                Professor    Male              55   71000.000000\n"
     ]
    }
   ],
   "source": [
    "df = pd.read_excel('F:\\python\\Salary.xlsx') # To imports data from excel\n",
    "print(df.to_string()) "
   ]
  },
  {
   "cell_type": "code",
   "execution_count": 45,
   "metadata": {},
   "outputs": [
    {
     "output_type": "execute_result",
     "data": {
      "text/plain": [
       "     Age      Workclass  Fnlwgt    Education  Experience Marital Status  \\\n",
       "0     23        Private  205865    Bachelors           1      Unmarried   \n",
       "1     33  Self Employed  155781  High School          10        Married   \n",
       "2     54  Self Employed  406468    Bachelors          13        Married   \n",
       "3     48        Private  144397    Bachelors          10       Divorced   \n",
       "4     35  Self Employed  372525    Bachelors          12       Unarried   \n",
       "..   ...            ...     ...          ...         ...            ...   \n",
       "322   39        Private  143123      Masters          11        Married   \n",
       "323   39        Private  237713    Bachelors          15        Married   \n",
       "324   59        Private   81929    Doctorate          16        Widowed   \n",
       "325   50  Self Employed  167793      Masters          15        Married   \n",
       "326   46        Private  456062    Doctorate          16        Married   \n",
       "\n",
       "                  Occupation     Sex  Hours per Week    Salary  \n",
       "0          Executive Manager    Male              28  31577.01  \n",
       "1                  Craftsman    Male              60  34000.00  \n",
       "2                      Sales    Male              40  37890.69  \n",
       "3         Technical  Support  Female              30  25541.66  \n",
       "4          Executive Manager    Male              40  28454.01  \n",
       "..                       ...     ...             ...       ...  \n",
       "322  Machine Learning Expert    Male              40  65418.14  \n",
       "323                    Sales    Male              99  64803.90  \n",
       "324                Professor    Male              45  64739.22  \n",
       "325  Machine Learning Expert    Male              60  62120.00  \n",
       "326                Professor    Male              55  71000.00  \n",
       "\n",
       "[287 rows x 10 columns]"
      ],
      "text/html": "<div>\n<style scoped>\n    .dataframe tbody tr th:only-of-type {\n        vertical-align: middle;\n    }\n\n    .dataframe tbody tr th {\n        vertical-align: top;\n    }\n\n    .dataframe thead th {\n        text-align: right;\n    }\n</style>\n<table border=\"1\" class=\"dataframe\">\n  <thead>\n    <tr style=\"text-align: right;\">\n      <th></th>\n      <th>Age</th>\n      <th>Workclass</th>\n      <th>Fnlwgt</th>\n      <th>Education</th>\n      <th>Experience</th>\n      <th>Marital Status</th>\n      <th>Occupation</th>\n      <th>Sex</th>\n      <th>Hours per Week</th>\n      <th>Salary</th>\n    </tr>\n  </thead>\n  <tbody>\n    <tr>\n      <th>0</th>\n      <td>23</td>\n      <td>Private</td>\n      <td>205865</td>\n      <td>Bachelors</td>\n      <td>1</td>\n      <td>Unmarried</td>\n      <td>Executive Manager</td>\n      <td>Male</td>\n      <td>28</td>\n      <td>31577.01</td>\n    </tr>\n    <tr>\n      <th>1</th>\n      <td>33</td>\n      <td>Self Employed</td>\n      <td>155781</td>\n      <td>High School</td>\n      <td>10</td>\n      <td>Married</td>\n      <td>Craftsman</td>\n      <td>Male</td>\n      <td>60</td>\n      <td>34000.00</td>\n    </tr>\n    <tr>\n      <th>2</th>\n      <td>54</td>\n      <td>Self Employed</td>\n      <td>406468</td>\n      <td>Bachelors</td>\n      <td>13</td>\n      <td>Married</td>\n      <td>Sales</td>\n      <td>Male</td>\n      <td>40</td>\n      <td>37890.69</td>\n    </tr>\n    <tr>\n      <th>3</th>\n      <td>48</td>\n      <td>Private</td>\n      <td>144397</td>\n      <td>Bachelors</td>\n      <td>10</td>\n      <td>Divorced</td>\n      <td>Technical  Support</td>\n      <td>Female</td>\n      <td>30</td>\n      <td>25541.66</td>\n    </tr>\n    <tr>\n      <th>4</th>\n      <td>35</td>\n      <td>Self Employed</td>\n      <td>372525</td>\n      <td>Bachelors</td>\n      <td>12</td>\n      <td>Unarried</td>\n      <td>Executive Manager</td>\n      <td>Male</td>\n      <td>40</td>\n      <td>28454.01</td>\n    </tr>\n    <tr>\n      <th>...</th>\n      <td>...</td>\n      <td>...</td>\n      <td>...</td>\n      <td>...</td>\n      <td>...</td>\n      <td>...</td>\n      <td>...</td>\n      <td>...</td>\n      <td>...</td>\n      <td>...</td>\n    </tr>\n    <tr>\n      <th>322</th>\n      <td>39</td>\n      <td>Private</td>\n      <td>143123</td>\n      <td>Masters</td>\n      <td>11</td>\n      <td>Married</td>\n      <td>Machine Learning Expert</td>\n      <td>Male</td>\n      <td>40</td>\n      <td>65418.14</td>\n    </tr>\n    <tr>\n      <th>323</th>\n      <td>39</td>\n      <td>Private</td>\n      <td>237713</td>\n      <td>Bachelors</td>\n      <td>15</td>\n      <td>Married</td>\n      <td>Sales</td>\n      <td>Male</td>\n      <td>99</td>\n      <td>64803.90</td>\n    </tr>\n    <tr>\n      <th>324</th>\n      <td>59</td>\n      <td>Private</td>\n      <td>81929</td>\n      <td>Doctorate</td>\n      <td>16</td>\n      <td>Widowed</td>\n      <td>Professor</td>\n      <td>Male</td>\n      <td>45</td>\n      <td>64739.22</td>\n    </tr>\n    <tr>\n      <th>325</th>\n      <td>50</td>\n      <td>Self Employed</td>\n      <td>167793</td>\n      <td>Masters</td>\n      <td>15</td>\n      <td>Married</td>\n      <td>Machine Learning Expert</td>\n      <td>Male</td>\n      <td>60</td>\n      <td>62120.00</td>\n    </tr>\n    <tr>\n      <th>326</th>\n      <td>46</td>\n      <td>Private</td>\n      <td>456062</td>\n      <td>Doctorate</td>\n      <td>16</td>\n      <td>Married</td>\n      <td>Professor</td>\n      <td>Male</td>\n      <td>55</td>\n      <td>71000.00</td>\n    </tr>\n  </tbody>\n</table>\n<p>287 rows × 10 columns</p>\n</div>"
     },
     "metadata": {},
     "execution_count": 45
    }
   ],
   "source": [
    "df.drop(range(50,90))"
   ]
  },
  {
   "cell_type": "code",
   "execution_count": 46,
   "metadata": {},
   "outputs": [
    {
     "output_type": "execute_result",
     "data": {
      "text/plain": [
       "0      33\n",
       "1      43\n",
       "2      64\n",
       "3      58\n",
       "4      45\n",
       "       ..\n",
       "322    49\n",
       "323    49\n",
       "324    69\n",
       "325    60\n",
       "326    56\n",
       "Name: Age, Length: 327, dtype: int64"
      ]
     },
     "metadata": {},
     "execution_count": 46
    }
   ],
   "source": [
    "def args(x):\n",
    "    return x+10\n",
    "df.Age.apply(args)"
   ]
  },
  {
   "cell_type": "code",
   "execution_count": 47,
   "metadata": {},
   "outputs": [
    {
     "output_type": "execute_result",
     "data": {
      "text/plain": [
       "   Age      Workclass  Fnlwgt    Education  Experience Marital Status  \\\n",
       "0   23        Private  205865    Bachelors           1      Unmarried   \n",
       "1   33  Self Employed  155781  High School          10        Married   \n",
       "2   54  Self Employed  406468    Bachelors          13        Married   \n",
       "3   48        Private  144397    Bachelors          10       Divorced   \n",
       "4   35  Self Employed  372525    Bachelors          12       Unarried   \n",
       "\n",
       "           Occupation     Sex  Hours per Week    Salary  \n",
       "0   Executive Manager    Male              28  31577.01  \n",
       "1           Craftsman    Male              60  34000.00  \n",
       "2               Sales    Male              40  37890.69  \n",
       "3  Technical  Support  Female              30  25541.66  \n",
       "4   Executive Manager    Male              40  28454.01  "
      ],
      "text/html": "<div>\n<style scoped>\n    .dataframe tbody tr th:only-of-type {\n        vertical-align: middle;\n    }\n\n    .dataframe tbody tr th {\n        vertical-align: top;\n    }\n\n    .dataframe thead th {\n        text-align: right;\n    }\n</style>\n<table border=\"1\" class=\"dataframe\">\n  <thead>\n    <tr style=\"text-align: right;\">\n      <th></th>\n      <th>Age</th>\n      <th>Workclass</th>\n      <th>Fnlwgt</th>\n      <th>Education</th>\n      <th>Experience</th>\n      <th>Marital Status</th>\n      <th>Occupation</th>\n      <th>Sex</th>\n      <th>Hours per Week</th>\n      <th>Salary</th>\n    </tr>\n  </thead>\n  <tbody>\n    <tr>\n      <th>0</th>\n      <td>23</td>\n      <td>Private</td>\n      <td>205865</td>\n      <td>Bachelors</td>\n      <td>1</td>\n      <td>Unmarried</td>\n      <td>Executive Manager</td>\n      <td>Male</td>\n      <td>28</td>\n      <td>31577.01</td>\n    </tr>\n    <tr>\n      <th>1</th>\n      <td>33</td>\n      <td>Self Employed</td>\n      <td>155781</td>\n      <td>High School</td>\n      <td>10</td>\n      <td>Married</td>\n      <td>Craftsman</td>\n      <td>Male</td>\n      <td>60</td>\n      <td>34000.00</td>\n    </tr>\n    <tr>\n      <th>2</th>\n      <td>54</td>\n      <td>Self Employed</td>\n      <td>406468</td>\n      <td>Bachelors</td>\n      <td>13</td>\n      <td>Married</td>\n      <td>Sales</td>\n      <td>Male</td>\n      <td>40</td>\n      <td>37890.69</td>\n    </tr>\n    <tr>\n      <th>3</th>\n      <td>48</td>\n      <td>Private</td>\n      <td>144397</td>\n      <td>Bachelors</td>\n      <td>10</td>\n      <td>Divorced</td>\n      <td>Technical  Support</td>\n      <td>Female</td>\n      <td>30</td>\n      <td>25541.66</td>\n    </tr>\n    <tr>\n      <th>4</th>\n      <td>35</td>\n      <td>Self Employed</td>\n      <td>372525</td>\n      <td>Bachelors</td>\n      <td>12</td>\n      <td>Unarried</td>\n      <td>Executive Manager</td>\n      <td>Male</td>\n      <td>40</td>\n      <td>28454.01</td>\n    </tr>\n  </tbody>\n</table>\n</div>"
     },
     "metadata": {},
     "execution_count": 47
    }
   ],
   "source": [
    "df.head()"
   ]
  },
  {
   "cell_type": "code",
   "execution_count": 48,
   "metadata": {},
   "outputs": [
    {
     "output_type": "execute_result",
     "data": {
      "text/plain": [
       "10"
      ]
     },
     "metadata": {},
     "execution_count": 48
    }
   ],
   "source": [
    "df.Education.nunique()"
   ]
  },
  {
   "cell_type": "code",
   "execution_count": 49,
   "metadata": {},
   "outputs": [
    {
     "output_type": "execute_result",
     "data": {
      "text/plain": [
       "array(['Bachelors', 'High School', 'Others', 'Masters', 'Doctorate',\n",
       "       'Senior Secondary', 'Bachelors ', 'High School ', 'Professor',\n",
       "       'Administration'], dtype=object)"
      ]
     },
     "metadata": {},
     "execution_count": 49
    }
   ],
   "source": [
    "df.Education.unique() # To show head counts of one unique coloumn"
   ]
  },
  {
   "cell_type": "code",
   "execution_count": 52,
   "metadata": {},
   "outputs": [
    {
     "output_type": "execute_result",
     "data": {
      "text/plain": [
       "array(['Bachelors', 'High School', 'Others', 'Masters', 'Doctorate',\n",
       "       'Senior Secondary', 'Professor', 'Administration'], dtype=object)"
      ]
     },
     "metadata": {},
     "execution_count": 52
    }
   ],
   "source": [
    "df.Education.replace(['High School ', 'Bachelors '],['High School','Bachelors'],inplace=True) # Replacing the duplicates with error\n",
    "df.Education.unique()"
   ]
  },
  {
   "cell_type": "code",
   "execution_count": 53,
   "metadata": {},
   "outputs": [
    {
     "output_type": "execute_result",
     "data": {
      "text/plain": [
       "Bachelors           140\n",
       "Masters              91\n",
       "Others               40\n",
       "Doctorate            20\n",
       "Senior Secondary     19\n",
       "High School          15\n",
       "Administration        1\n",
       "Professor             1\n",
       "Name: Education, dtype: int64"
      ]
     },
     "metadata": {},
     "execution_count": 53
    }
   ],
   "source": [
    "df.Education.value_counts() #To head count the headers"
   ]
  },
  {
   "cell_type": "code",
   "execution_count": null,
   "metadata": {},
   "outputs": [],
   "source": []
  }
 ]
}