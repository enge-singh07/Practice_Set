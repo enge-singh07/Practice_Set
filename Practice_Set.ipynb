{
 "metadata": {
  "language_info": {
   "codemirror_mode": {
    "name": "ipython",
    "version": 3
   },
   "file_extension": ".py",
   "mimetype": "text/x-python",
   "name": "python",
   "nbconvert_exporter": "python",
   "pygments_lexer": "ipython3",
   "version": "3.8.5-final"
  },
  "orig_nbformat": 2,
  "kernelspec": {
   "name": "python3",
   "display_name": "Python 3",
   "language": "python"
  }
 },
 "nbformat": 4,
 "nbformat_minor": 2,
 "cells": [
  {
   "cell_type": "code",
   "execution_count": 1,
   "metadata": {},
   "outputs": [
    {
     "output_type": "stream",
     "name": "stdout",
     "text": [
      "5\n"
     ]
    }
   ],
   "source": [
    "print(round(4.556))"
   ]
  },
  {
   "cell_type": "code",
   "execution_count": 4,
   "metadata": {},
   "outputs": [
    {
     "output_type": "stream",
     "name": "stdout",
     "text": [
      "second number is bigger :  12\n"
     ]
    }
   ],
   "source": [
    "a=int(input(\"enter first number :\"))\n",
    "b=int(input(\"enter second number :\"))\n",
    "if a>b:\n",
    "    print(\"first number is bigger :\",a)\n",
    "else:\n",
    "    print(\"second number is bigger : \", b)\n"
   ]
  },
  {
   "cell_type": "code",
   "execution_count": 37,
   "metadata": {},
   "outputs": [
    {
     "output_type": "stream",
     "name": "stdout",
     "text": [
      "-3\nNumber is Odd\n"
     ]
    }
   ],
   "source": [
    "\"\"\" # If else conditional statement problem\n",
    "Suppose user will enter a floating point number e.g. 245.96. Your task is to find out the integer portion before the point (in this case 245) and then check if the interger portion is and even number or an odd number ?\n",
    "\"\"\"\n",
    "\n",
    "x = float(input(\"Enter a floating or a real number : \"))\n",
    "y = round(x)\n",
    "if x>0:\n",
    "    if y>x:\n",
    "        IntPortion = y-1\n",
    "        IntPortion = y-1\n",
    "    else:\n",
    "        IntPortion = y\n",
    "else:\n",
    "    if y<x:\n",
    "        IntPortion = y+1\n",
    "    else:\n",
    "        IntPortion = y\n",
    "print(IntPortion)\n",
    "if IntPortion%2==0:\n",
    "    print(\"Number is Even\")\n",
    "else:\n",
    "    print(\"Number is Odd\")\n",
    "        "
   ]
  },
  {
   "cell_type": "code",
   "execution_count": 36,
   "metadata": {},
   "outputs": [
    {
     "output_type": "execute_result",
     "data": {
      "text/plain": [
       "-4"
      ]
     },
     "metadata": {},
     "execution_count": 36
    }
   ],
   "source": [
    "round(-3.9)"
   ]
  },
  {
   "cell_type": "code",
   "execution_count": 6,
   "metadata": {},
   "outputs": [
    {
     "output_type": "stream",
     "name": "stdout",
     "text": [
      "1\n2\n3\n4\n5\n6\n7\n8\nDone !!\n"
     ]
    }
   ],
   "source": [
    "# While Loop\n",
    "n = int(input(\"enter the number to print its sequence: \"))\n",
    "i=1\n",
    "while i<n+1: # To print the last numbr as well !!\n",
    "    print(i)\n",
    "    i = i + 1\n",
    "print(\"Done !!\")"
   ]
  },
  {
   "cell_type": "code",
   "execution_count": 16,
   "metadata": {},
   "outputs": [
    {
     "output_type": "stream",
     "name": "stdout",
     "text": [
      "1\n2\n3\n4\n5\n6\n7\n8\n9\n10\n[1, 2, 3, 4, 5, 6, 7, 8, 9, 10]\n"
     ]
    }
   ],
   "source": [
    "# For Loop !!\n",
    "L=[]\n",
    "for i in range(1,11):\n",
    "    print(i)\n",
    "    L.append(i)\n",
    "print(L)\n"
   ]
  },
  {
   "cell_type": "code",
   "execution_count": 20,
   "metadata": {},
   "outputs": [
    {
     "output_type": "stream",
     "name": "stdout",
     "text": [
      "cherry\napple\n"
     ]
    }
   ],
   "source": [
    "# Control Flow (else in for loops)\n",
    "S = {\"apple\", 4.9,\"cherry\"}\n",
    "i = 1\n",
    "for x in S:\n",
    "    print(x)\n",
    "    i = i + 1\n",
    "    if i == 3:\n",
    "        break\n",
    "    else:\n",
    "        pass\n",
    "else:\n",
    "    print(\"loop complete its iterations\")"
   ]
  },
  {
   "cell_type": "code",
   "execution_count": 25,
   "metadata": {},
   "outputs": [
    {
     "output_type": "stream",
     "name": "stdout",
     "text": [
      "-10\n"
     ]
    }
   ],
   "source": [
    "'''\n",
    "Given a list of numbers i.e. [1,3,2,4,5,-2,-3,-10,11], arrange this list in min to max. \n",
    "'''\n",
    "L = [1,3,2,4,5,-2,-3,-10,11]\n",
    "m = L[0]\n",
    "for i in L:\n",
    "    if i<m:\n",
    "        m=i\n",
    "print(m)"
   ]
  },
  {
   "cell_type": "code",
   "execution_count": 32,
   "metadata": {},
   "outputs": [
    {
     "output_type": "stream",
     "name": "stdout",
     "text": [
      "7 -10\n"
     ]
    }
   ],
   "source": [
    "# Including the INDEX of the MIN. value as well.\n",
    "L = [1,3,2,4,5,-2,-3,-10,11]\n",
    "m = L[0]\n",
    "index = 0\n",
    "counter = 0\n",
    "for i in L:\n",
    "    if i<m:\n",
    "        m=i\n",
    "        index = counter\n",
    "    counter = counter + 1\n",
    "print(index,m)"
   ]
  },
  {
   "cell_type": "code",
   "execution_count": 33,
   "metadata": {},
   "outputs": [
    {
     "output_type": "execute_result",
     "data": {
      "text/plain": [
       "[-10, 3, 2, 4, 5, -2, -3, 1, 11]"
      ]
     },
     "metadata": {},
     "execution_count": 33
    }
   ],
   "source": [
    "# Now Swapping the minimum value to zeroth location (1st location) -- This is the logic for list sorting.\n",
    "L = [1,3,2,4,5,-2,-3,-10,11]\n",
    "m = L[0]\n",
    "index = 0\n",
    "counter = 0\n",
    "for i in L:\n",
    "    if i<m:\n",
    "        m=i\n",
    "        index = counter\n",
    "    counter = counter + 1\n",
    "temp = L[0] # Assining the zeroth location of the list to a temprary variable.\n",
    "L[0] = m    # Assining the min. value to the zeroth location\n",
    "L[index] = temp # This is where swapping of the values is happeing.\n",
    "L # Printing the full list\n"
   ]
  },
  {
   "cell_type": "code",
   "execution_count": 35,
   "metadata": {},
   "outputs": [
    {
     "output_type": "stream",
     "name": "stdout",
     "text": [
      "8 [-10, -3, -2, 1, 2, 3, 4, 5, 11]\n"
     ]
    }
   ],
   "source": [
    "L = [1,3,2,4,5,-2,-3,-10,11]\n",
    "for j in range(len(L)): # Traversing the list by using loop.\n",
    "    m = L[j]\n",
    "    index = j\n",
    "    counter = j\n",
    "    for i in range(j,len(L)):\n",
    "        if L[i]<m:\n",
    "            m=L[i]\n",
    "            index = counter\n",
    "        counter = counter + 1\n",
    "    temp = L[j] # Assining the zeroth location of the list to a temprary variable.\n",
    "    L[j] = m    # Assining the min. value to the zeroth location\n",
    "    L[index] = temp # This is where swapping of the values is happeing.\n",
    "print(index,L) # Printing the full list in sorted form."
   ]
  },
  {
   "cell_type": "code",
   "execution_count": 28,
   "metadata": {},
   "outputs": [
    {
     "output_type": "stream",
     "name": "stdout",
     "text": [
      "-10\n"
     ]
    }
   ],
   "source": [
    "L = [1,3,2,4,5,-2,-3,-10,11]\n",
    "print(min(L))"
   ]
  },
  {
   "cell_type": "code",
   "execution_count": 2,
   "metadata": {},
   "outputs": [
    {
     "output_type": "stream",
     "text": [
      "\u001b[1;31mInit signature:\u001b[0m \u001b[0mrange\u001b[0m\u001b[1;33m(\u001b[0m\u001b[0mself\u001b[0m\u001b[1;33m,\u001b[0m \u001b[1;33m/\u001b[0m\u001b[1;33m,\u001b[0m \u001b[1;33m*\u001b[0m\u001b[0margs\u001b[0m\u001b[1;33m,\u001b[0m \u001b[1;33m**\u001b[0m\u001b[0mkwargs\u001b[0m\u001b[1;33m)\u001b[0m\u001b[1;33m\u001b[0m\u001b[1;33m\u001b[0m\u001b[0m\n",
      "\u001b[1;31mDocstring:\u001b[0m     \n",
      "range(stop) -> range object\n",
      "range(start, stop[, step]) -> range object\n",
      "\n",
      "Return an object that produces a sequence of integers from start (inclusive)\n",
      "to stop (exclusive) by step.  range(i, j) produces i, i+1, i+2, ..., j-1.\n",
      "start defaults to 0, and stop is omitted!  range(4) produces 0, 1, 2, 3.\n",
      "These are exactly the valid indices for a list of 4 elements.\n",
      "When step is given, it specifies the increment (or decrement).\n",
      "\u001b[1;31mType:\u001b[0m           type\n",
      "\u001b[1;31mSubclasses:\u001b[0m     \n"
     ],
     "name": "stdout"
    }
   ],
   "source": [
    "range?? # This is to check what a fuction is doing and this can be acheived by putting question mark in front of any function."
   ]
  },
  {
   "cell_type": "code",
   "execution_count": 9,
   "metadata": {},
   "outputs": [],
   "source": [
    "def printmsg(msg):\n",
    "    \"\"\" This function prints the message entered by the user or prints the message if not in the form of string \"\"\"\n",
    "\n",
    "    if isinstance(msg,str):\n",
    "        print(type(msg),msg)\n",
    "    else:\n",
    "        print(\"your input argument is not a string\")\n",
    "        print(\"the type of your input is :\",type(msg))\n"
   ]
  },
  {
   "cell_type": "code",
   "execution_count": 10,
   "metadata": {},
   "outputs": [
    {
     "output_type": "stream",
     "name": "stdout",
     "text": [
      "<class 'str'> hey\nyour input argument is not a string\nthe type of your input is : <class 'int'>\n"
     ]
    }
   ],
   "source": [
    "printmsg(\"hey\")\n",
    "printmsg(233)"
   ]
  },
  {
   "cell_type": "code",
   "execution_count": 1,
   "metadata": {},
   "outputs": [
    {
     "output_type": "execute_result",
     "data": {
      "text/plain": [
       "4"
      ]
     },
     "metadata": {},
     "execution_count": 1
    }
   ],
   "source": [
    "\n",
    "def add(x = 0, y = 0):\n",
    "    \"\"\" Function with optional parsmeter \"\"\"\n",
    "    x = int(input(\"Please enter first value:\")) \n",
    "    y = int(input(\"Please enter second value:\"))\n",
    "    c = x + y\n",
    "    return(c)\n",
    "add()"
   ]
  },
  {
   "cell_type": "code",
   "execution_count": 4,
   "metadata": {},
   "outputs": [
    {
     "output_type": "execute_result",
     "data": {
      "text/plain": [
       "4"
      ]
     },
     "metadata": {},
     "execution_count": 4
    }
   ],
   "source": [
    "x = int(input(\"Please enter first value:\")) \n",
    "y = int(input(\"Please enter second value:\"))\n",
    "def add2(x,y):\n",
    "    return x + y\n",
    "add2(x,y)"
   ]
  }
 ]
}