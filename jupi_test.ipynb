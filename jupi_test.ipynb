{
 "metadata": {
  "language_info": {
   "codemirror_mode": {
    "name": "ipython",
    "version": 3
   },
   "file_extension": ".py",
   "mimetype": "text/x-python",
   "name": "python",
   "nbconvert_exporter": "python",
   "pygments_lexer": "ipython3",
   "version": "3.8.5-final"
  },
  "orig_nbformat": 2,
  "kernelspec": {
   "name": "python3",
   "display_name": "Python 3",
   "language": "python"
  }
 },
 "nbformat": 4,
 "nbformat_minor": 2,
 "cells": [
  {
   "cell_type": "code",
   "execution_count": 2,
   "metadata": {},
   "outputs": [
    {
     "output_type": "stream",
     "name": "stdout",
     "text": [
      "[[[1 2 3]\n  [4 5 6]\n  [7 8 9]]]\n[[[1 2 3]\n  [4 5 6]\n  [7 8 9]]]\n"
     ]
    },
    {
     "output_type": "execute_result",
     "data": {
      "text/plain": [
       "dtype('int32')"
      ]
     },
     "metadata": {},
     "execution_count": 2
    }
   ],
   "source": [
    "import numpy as np\n",
    "array=[[[1,2,3],[4,5,6],[7,8,9]]]\n",
    "a=np.array(array)\n",
    "print(a)\n",
    "a.size\n",
    "a.shape\n",
    "print(a)\n",
    "a.ndim\n",
    "a.dtype"
   ]
  },
  {
   "cell_type": "code",
   "execution_count": 7,
   "metadata": {},
   "outputs": [
    {
     "output_type": "stream",
     "name": "stdout",
     "text": [
      "7\n"
     ]
    }
   ],
   "source": [
    "import numpy as np\n",
    "\n",
    "arr = np.array([1, 2, 3, 4])\n",
    "\n",
    "print(arr[2] + arr[3])"
   ]
  },
  {
   "cell_type": "code",
   "execution_count": 46,
   "metadata": {},
   "outputs": [
    {
     "output_type": "stream",
     "name": "stdout",
     "text": [
      "[41. 42.]\n"
     ]
    }
   ],
   "source": [
    "import numpy as np\n",
    "sumit = np.array([])\n",
    "\n",
    "sumit=np.insert(sumit,0,[41])\n",
    "sumit1 =np.append(sumit,[42])\n",
    "print(sumit1)\n"
   ]
  },
  {
   "cell_type": "code",
   "execution_count": 69,
   "metadata": {},
   "outputs": [
    {
     "output_type": "stream",
     "name": "stdout",
     "text": [
      "['a' 'b' '3']\n"
     ]
    }
   ],
   "source": [
    "import numpy as np\n",
    "a=np.array(['a','b'])\n",
    "b =np.insert(a,a.size,3)\n",
    "print(b)"
   ]
  },
  {
   "cell_type": "code",
   "execution_count": 3,
   "metadata": {},
   "outputs": [
    {
     "output_type": "stream",
     "name": "stdout",
     "text": [
      "[2 3 4 5]\n"
     ]
    }
   ],
   "source": [
    "# Array Slicing and slecting\n",
    "import numpy as np\n",
    "arr = np.array([1, 2, 3, 4, 5, 6, 7])\n",
    "print(arr[1:5])"
   ]
  },
  {
   "cell_type": "code",
   "execution_count": 6,
   "metadata": {},
   "outputs": [
    {
     "output_type": "execute_result",
     "data": {
      "text/plain": [
       "array([[2, 4, 2],\n",
       "       [2, 4, 0],\n",
       "       [1, 1, 3]])"
      ]
     },
     "metadata": {},
     "execution_count": 6
    }
   ],
   "source": [
    "a=np.random.randint(5,size=(3,3))\n",
    "a"
   ]
  },
  {
   "cell_type": "code",
   "execution_count": 7,
   "metadata": {},
   "outputs": [
    {
     "output_type": "execute_result",
     "data": {
      "text/plain": [
       "array([[0],\n",
       "       [3]])"
      ]
     },
     "metadata": {},
     "execution_count": 7
    }
   ],
   "source": [
    "a[1:3,2:3]"
   ]
  },
  {
   "cell_type": "code",
   "execution_count": null,
   "metadata": {},
   "outputs": [],
   "source": [
    "a[1:3,::]"
   ]
  },
  {
   "cell_type": "code",
   "execution_count": 26,
   "metadata": {},
   "outputs": [
    {
     "output_type": "stream",
     "name": "stdout",
     "text": [
      "int32\n"
     ]
    },
    {
     "output_type": "execute_result",
     "data": {
      "text/plain": [
       "dtype('int32')"
      ]
     },
     "metadata": {},
     "execution_count": 26
    }
   ],
   "source": [
    "a.sum()\n",
    "a.sum(axis=0) # This is for ROW\n",
    "a.sum(axis=1) # This is for coloumn\n",
    "a.max(axis=0) # This is for ROW\n",
    "a.max(axis=1) # This is for Coloumn\n",
    "a.min()\n",
    "a=np.transpose(a)\n",
    "print(a.dtype)\n",
    "a.dtype"
   ]
  },
  {
   "cell_type": "code",
   "execution_count": 27,
   "metadata": {},
   "outputs": [
    {
     "output_type": "stream",
     "name": "stdout",
     "text": [
      "<U6\n"
     ]
    },
    {
     "output_type": "execute_result",
     "data": {
      "text/plain": [
       "dtype('<U6')"
      ]
     },
     "metadata": {},
     "execution_count": 27
    }
   ],
   "source": [
    "arr = np.array(['apple', 'banana', 'cherry'])\n",
    "\n",
    "print(arr.dtype)\n",
    "arr.dtype"
   ]
  },
  {
   "cell_type": "code",
   "execution_count": 32,
   "metadata": {},
   "outputs": [
    {
     "output_type": "execute_result",
     "data": {
      "text/plain": [
       "2"
      ]
     },
     "metadata": {},
     "execution_count": 32
    }
   ],
   "source": [
    "np.append(a,100)\n",
    "a.shape\n",
    "a.ndim"
   ]
  },
  {
   "cell_type": "code",
   "execution_count": 35,
   "metadata": {},
   "outputs": [
    {
     "output_type": "execute_result",
     "data": {
      "text/plain": [
       "array([[2, 2, 1],\n",
       "       [4, 4, 1],\n",
       "       [2, 0, 3],\n",
       "       [6, 6, 6]])"
      ]
     },
     "metadata": {},
     "execution_count": 35
    }
   ],
   "source": [
    "np.append(a,[[6,6,6]],axis=0)"
   ]
  },
  {
   "cell_type": "code",
   "execution_count": 58,
   "metadata": {},
   "outputs": [
    {
     "output_type": "execute_result",
     "data": {
      "text/plain": [
       "array([[2, 2, 1, 6],\n",
       "       [4, 4, 1, 6],\n",
       "       [2, 0, 3, 6]])"
      ]
     },
     "metadata": {},
     "execution_count": 58
    }
   ],
   "source": [
    "b=np.append(a,[[6],[6],[6]],axis=1)\n",
    "b"
   ]
  },
  {
   "cell_type": "code",
   "execution_count": 47,
   "metadata": {},
   "outputs": [
    {
     "output_type": "execute_result",
     "data": {
      "text/plain": [
       "array([6, 6, 6])"
      ]
     },
     "metadata": {},
     "execution_count": 47
    }
   ],
   "source": [
    "a[a>2]\n",
    "b[b>5]"
   ]
  },
  {
   "cell_type": "code",
   "execution_count": 60,
   "metadata": {},
   "outputs": [
    {
     "output_type": "execute_result",
     "data": {
      "text/plain": [
       "array([[2, 2, 1],\n",
       "       [4, 4, 1],\n",
       "       [2, 0, 3]])"
      ]
     },
     "metadata": {},
     "execution_count": 60
    }
   ],
   "source": [
    "z=np.delete(b,3,axis=1)\n",
    "z"
   ]
  },
  {
   "cell_type": "code",
   "execution_count": 59,
   "metadata": {},
   "outputs": [
    {
     "output_type": "execute_result",
     "data": {
      "text/plain": [
       "array([[2, 2, 1, 6],\n",
       "       [4, 4, 1, 6],\n",
       "       [2, 0, 3, 6]])"
      ]
     },
     "metadata": {},
     "execution_count": 59
    }
   ],
   "source": [
    "b"
   ]
  },
  {
   "cell_type": "code",
   "execution_count": null,
   "metadata": {},
   "outputs": [],
   "source": []
  }
 ]
}